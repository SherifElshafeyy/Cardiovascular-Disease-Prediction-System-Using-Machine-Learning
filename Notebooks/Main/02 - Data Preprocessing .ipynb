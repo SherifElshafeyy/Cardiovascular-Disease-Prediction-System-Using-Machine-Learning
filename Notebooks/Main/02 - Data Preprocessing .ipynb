{
 "cells": [
  {
   "cell_type": "code",
   "execution_count": 189,
   "id": "1168a024-c424-44d2-9483-91b219fcdac3",
   "metadata": {},
   "outputs": [],
   "source": [
    "import pandas as pd\n",
    "import numpy as np\n",
    "import matplotlib.pyplot as plt\n",
    "import seaborn as sns\n",
    "from imblearn.over_sampling import RandomOverSampler\n",
    "from sklearn.preprocessing import OneHotEncoder\n",
    "from sklearn.preprocessing import StandardScaler\n",
    "from sklearn.pipeline import Pipeline\n",
    "from sklearn.compose import ColumnTransformer\n",
    "from sklearn.model_selection import train_test_split\n",
    "# from lazypredict.Supervised import LazyClassifier\n",
    "from sklearn.linear_model import LogisticRegression\n",
    "from sklearn.ensemble import RandomForestClassifier\n",
    "from sklearn.tree import DecisionTreeClassifier\n",
    "from xgboost import XGBClassifier\n",
    "from sklearn.svm import SVC\n",
    "\n",
    "from sklearn.metrics import f1_score, classification_report, confusion_matrix, precision_score, recall_score, ConfusionMatrixDisplay\n",
    "import joblib\n",
    "from sklearn.decomposition import PCA\n"
   ]
  },
  {
   "cell_type": "code",
   "execution_count": 190,
   "id": "852b9eea-00b3-4da3-8d97-2e074e7ffac5",
   "metadata": {},
   "outputs": [
    {
     "data": {
      "text/html": [
       "<div>\n",
       "<style scoped>\n",
       "    .dataframe tbody tr th:only-of-type {\n",
       "        vertical-align: middle;\n",
       "    }\n",
       "\n",
       "    .dataframe tbody tr th {\n",
       "        vertical-align: top;\n",
       "    }\n",
       "\n",
       "    .dataframe thead th {\n",
       "        text-align: right;\n",
       "    }\n",
       "</style>\n",
       "<table border=\"1\" class=\"dataframe\">\n",
       "  <thead>\n",
       "    <tr style=\"text-align: right;\">\n",
       "      <th></th>\n",
       "      <th>gender</th>\n",
       "      <th>age</th>\n",
       "      <th>education</th>\n",
       "      <th>currentSmoker</th>\n",
       "      <th>cigsPerDay</th>\n",
       "      <th>BPMeds</th>\n",
       "      <th>prevalentStroke</th>\n",
       "      <th>prevalentHyp</th>\n",
       "      <th>diabetes</th>\n",
       "      <th>totChol</th>\n",
       "      <th>BMI</th>\n",
       "      <th>heartRate</th>\n",
       "      <th>glucose</th>\n",
       "      <th>target</th>\n",
       "      <th>sys_dia</th>\n",
       "    </tr>\n",
       "  </thead>\n",
       "  <tbody>\n",
       "    <tr>\n",
       "      <th>0</th>\n",
       "      <td>Male</td>\n",
       "      <td>39</td>\n",
       "      <td>Higher Degree</td>\n",
       "      <td>0</td>\n",
       "      <td>0.0</td>\n",
       "      <td>0.0</td>\n",
       "      <td>0</td>\n",
       "      <td>0</td>\n",
       "      <td>0</td>\n",
       "      <td>195.0</td>\n",
       "      <td>26.97</td>\n",
       "      <td>80.0</td>\n",
       "      <td>77.0</td>\n",
       "      <td>0</td>\n",
       "      <td>-29.332996</td>\n",
       "    </tr>\n",
       "    <tr>\n",
       "      <th>1</th>\n",
       "      <td>Female</td>\n",
       "      <td>46</td>\n",
       "      <td>High School Diploma/GED</td>\n",
       "      <td>0</td>\n",
       "      <td>0.0</td>\n",
       "      <td>0.0</td>\n",
       "      <td>0</td>\n",
       "      <td>0</td>\n",
       "      <td>0</td>\n",
       "      <td>250.0</td>\n",
       "      <td>28.73</td>\n",
       "      <td>95.0</td>\n",
       "      <td>76.0</td>\n",
       "      <td>0</td>\n",
       "      <td>-11.085558</td>\n",
       "    </tr>\n",
       "    <tr>\n",
       "      <th>2</th>\n",
       "      <td>Male</td>\n",
       "      <td>48</td>\n",
       "      <td>High School</td>\n",
       "      <td>1</td>\n",
       "      <td>20.0</td>\n",
       "      <td>0.0</td>\n",
       "      <td>0</td>\n",
       "      <td>0</td>\n",
       "      <td>0</td>\n",
       "      <td>245.0</td>\n",
       "      <td>25.34</td>\n",
       "      <td>75.0</td>\n",
       "      <td>70.0</td>\n",
       "      <td>0</td>\n",
       "      <td>-5.621236</td>\n",
       "    </tr>\n",
       "    <tr>\n",
       "      <th>3</th>\n",
       "      <td>Female</td>\n",
       "      <td>61</td>\n",
       "      <td>College</td>\n",
       "      <td>1</td>\n",
       "      <td>30.0</td>\n",
       "      <td>0.0</td>\n",
       "      <td>0</td>\n",
       "      <td>1</td>\n",
       "      <td>0</td>\n",
       "      <td>225.0</td>\n",
       "      <td>28.58</td>\n",
       "      <td>65.0</td>\n",
       "      <td>103.0</td>\n",
       "      <td>1</td>\n",
       "      <td>21.114484</td>\n",
       "    </tr>\n",
       "    <tr>\n",
       "      <th>4</th>\n",
       "      <td>Female</td>\n",
       "      <td>46</td>\n",
       "      <td>College</td>\n",
       "      <td>1</td>\n",
       "      <td>23.0</td>\n",
       "      <td>0.0</td>\n",
       "      <td>0</td>\n",
       "      <td>0</td>\n",
       "      <td>0</td>\n",
       "      <td>285.0</td>\n",
       "      <td>23.10</td>\n",
       "      <td>85.0</td>\n",
       "      <td>85.0</td>\n",
       "      <td>0</td>\n",
       "      <td>-1.662143</td>\n",
       "    </tr>\n",
       "    <tr>\n",
       "      <th>...</th>\n",
       "      <td>...</td>\n",
       "      <td>...</td>\n",
       "      <td>...</td>\n",
       "      <td>...</td>\n",
       "      <td>...</td>\n",
       "      <td>...</td>\n",
       "      <td>...</td>\n",
       "      <td>...</td>\n",
       "      <td>...</td>\n",
       "      <td>...</td>\n",
       "      <td>...</td>\n",
       "      <td>...</td>\n",
       "      <td>...</td>\n",
       "      <td>...</td>\n",
       "      <td>...</td>\n",
       "    </tr>\n",
       "    <tr>\n",
       "      <th>4233</th>\n",
       "      <td>Male</td>\n",
       "      <td>50</td>\n",
       "      <td>High School</td>\n",
       "      <td>1</td>\n",
       "      <td>1.0</td>\n",
       "      <td>0.0</td>\n",
       "      <td>0</td>\n",
       "      <td>1</td>\n",
       "      <td>0</td>\n",
       "      <td>313.0</td>\n",
       "      <td>25.97</td>\n",
       "      <td>66.0</td>\n",
       "      <td>86.0</td>\n",
       "      <td>1</td>\n",
       "      <td>46.112908</td>\n",
       "    </tr>\n",
       "    <tr>\n",
       "      <th>4234</th>\n",
       "      <td>Male</td>\n",
       "      <td>51</td>\n",
       "      <td>College</td>\n",
       "      <td>1</td>\n",
       "      <td>43.0</td>\n",
       "      <td>0.0</td>\n",
       "      <td>0</td>\n",
       "      <td>0</td>\n",
       "      <td>0</td>\n",
       "      <td>207.0</td>\n",
       "      <td>19.71</td>\n",
       "      <td>65.0</td>\n",
       "      <td>68.0</td>\n",
       "      <td>0</td>\n",
       "      <td>-6.527074</td>\n",
       "    </tr>\n",
       "    <tr>\n",
       "      <th>4235</th>\n",
       "      <td>Female</td>\n",
       "      <td>48</td>\n",
       "      <td>High School Diploma/GED</td>\n",
       "      <td>1</td>\n",
       "      <td>20.0</td>\n",
       "      <td>0.0</td>\n",
       "      <td>0</td>\n",
       "      <td>0</td>\n",
       "      <td>0</td>\n",
       "      <td>248.0</td>\n",
       "      <td>22.00</td>\n",
       "      <td>84.0</td>\n",
       "      <td>86.0</td>\n",
       "      <td>0</td>\n",
       "      <td>-5.839800</td>\n",
       "    </tr>\n",
       "    <tr>\n",
       "      <th>4236</th>\n",
       "      <td>Female</td>\n",
       "      <td>44</td>\n",
       "      <td>High School</td>\n",
       "      <td>1</td>\n",
       "      <td>15.0</td>\n",
       "      <td>0.0</td>\n",
       "      <td>0</td>\n",
       "      <td>0</td>\n",
       "      <td>0</td>\n",
       "      <td>210.0</td>\n",
       "      <td>19.16</td>\n",
       "      <td>86.0</td>\n",
       "      <td>78.0</td>\n",
       "      <td>0</td>\n",
       "      <td>-3.561702</td>\n",
       "    </tr>\n",
       "    <tr>\n",
       "      <th>4237</th>\n",
       "      <td>Female</td>\n",
       "      <td>52</td>\n",
       "      <td>High School Diploma/GED</td>\n",
       "      <td>0</td>\n",
       "      <td>0.0</td>\n",
       "      <td>0.0</td>\n",
       "      <td>0</td>\n",
       "      <td>0</td>\n",
       "      <td>0</td>\n",
       "      <td>269.0</td>\n",
       "      <td>21.47</td>\n",
       "      <td>80.0</td>\n",
       "      <td>107.0</td>\n",
       "      <td>0</td>\n",
       "      <td>1.084665</td>\n",
       "    </tr>\n",
       "  </tbody>\n",
       "</table>\n",
       "<p>4238 rows × 15 columns</p>\n",
       "</div>"
      ],
      "text/plain": [
       "      gender  age                education  currentSmoker  cigsPerDay  BPMeds  \\\n",
       "0       Male   39            Higher Degree              0         0.0     0.0   \n",
       "1     Female   46  High School Diploma/GED              0         0.0     0.0   \n",
       "2       Male   48              High School              1        20.0     0.0   \n",
       "3     Female   61                  College              1        30.0     0.0   \n",
       "4     Female   46                  College              1        23.0     0.0   \n",
       "...      ...  ...                      ...            ...         ...     ...   \n",
       "4233    Male   50              High School              1         1.0     0.0   \n",
       "4234    Male   51                  College              1        43.0     0.0   \n",
       "4235  Female   48  High School Diploma/GED              1        20.0     0.0   \n",
       "4236  Female   44              High School              1        15.0     0.0   \n",
       "4237  Female   52  High School Diploma/GED              0         0.0     0.0   \n",
       "\n",
       "      prevalentStroke  prevalentHyp  diabetes  totChol    BMI  heartRate  \\\n",
       "0                   0             0         0    195.0  26.97       80.0   \n",
       "1                   0             0         0    250.0  28.73       95.0   \n",
       "2                   0             0         0    245.0  25.34       75.0   \n",
       "3                   0             1         0    225.0  28.58       65.0   \n",
       "4                   0             0         0    285.0  23.10       85.0   \n",
       "...               ...           ...       ...      ...    ...        ...   \n",
       "4233                0             1         0    313.0  25.97       66.0   \n",
       "4234                0             0         0    207.0  19.71       65.0   \n",
       "4235                0             0         0    248.0  22.00       84.0   \n",
       "4236                0             0         0    210.0  19.16       86.0   \n",
       "4237                0             0         0    269.0  21.47       80.0   \n",
       "\n",
       "      glucose  target    sys_dia  \n",
       "0        77.0       0 -29.332996  \n",
       "1        76.0       0 -11.085558  \n",
       "2        70.0       0  -5.621236  \n",
       "3       103.0       1  21.114484  \n",
       "4        85.0       0  -1.662143  \n",
       "...       ...     ...        ...  \n",
       "4233     86.0       1  46.112908  \n",
       "4234     68.0       0  -6.527074  \n",
       "4235     86.0       0  -5.839800  \n",
       "4236     78.0       0  -3.561702  \n",
       "4237    107.0       0   1.084665  \n",
       "\n",
       "[4238 rows x 15 columns]"
      ]
     },
     "execution_count": 2,
     "metadata": {},
     "output_type": "execute_result"
    }
   ],
   "source": [
    "data = pd.read_csv(\"Data/cleaned_data.csv\")\n",
    "data = data.drop(\"Unnamed: 0\",axis=1)\n",
    "data"
   ]
  },
  {
   "cell_type": "markdown",
   "id": "44eaf167-3eed-4cfd-9857-efaaf7cac43c",
   "metadata": {},
   "source": [
    "### Problems :\n",
    "1 - Convert Categorical data into numerical\n",
    "    * Label Encoder > high school :1 , college : 2 , Diploma : 3\n",
    "    * One Hot Encoder > \n",
    "\n",
    "2 - unbalanced data\n",
    "     1 - UnderSampling\n",
    "     2 - OverSampling\n",
    "     3 - Smote\n",
    "3 - Normalization , Scaling"
   ]
  },
  {
   "cell_type": "code",
   "execution_count": 124,
   "id": "eee57a25-cda7-44a5-b428-dfa0f02e8dd5",
   "metadata": {},
   "outputs": [],
   "source": [
    "# categorical = []\n",
    "# numerical = []\n",
    "# for col in data.columns:\n",
    "#     if data[col].dtype == \"O\":\n",
    "#         categorical.append(col)\n",
    "#     else:\n",
    "#         numerical.append(col)        "
   ]
  },
  {
   "cell_type": "code",
   "execution_count": 125,
   "id": "fe49279f-2b92-44bf-8e00-adea7726611a",
   "metadata": {},
   "outputs": [
    {
     "data": {
      "text/plain": [
       "['gender', 'education']"
      ]
     },
     "execution_count": 4,
     "metadata": {},
     "output_type": "execute_result"
    }
   ],
   "source": [
    "categorical = [col for col in data.columns if data[col].dtype == \"O\"]\n",
    "categorical"
   ]
  },
  {
   "cell_type": "code",
   "execution_count": 126,
   "id": "39e61bb4-0acc-49dd-baea-17927186afc2",
   "metadata": {},
   "outputs": [
    {
     "data": {
      "text/plain": [
       "['age',\n",
       " 'currentSmoker',\n",
       " 'cigsPerDay',\n",
       " 'BPMeds',\n",
       " 'prevalentStroke',\n",
       " 'prevalentHyp',\n",
       " 'diabetes',\n",
       " 'totChol',\n",
       " 'BMI',\n",
       " 'heartRate',\n",
       " 'glucose',\n",
       " 'sys_dia']"
      ]
     },
     "execution_count": 5,
     "metadata": {},
     "output_type": "execute_result"
    }
   ],
   "source": [
    "numerical = [col for col in data.columns if data[col].dtype != \"O\"]\n",
    "numerical.remove(\"target\")\n",
    "numerical"
   ]
  },
  {
   "cell_type": "code",
   "execution_count": 127,
   "id": "0217a9ad-d18e-4cbb-be57-06cdf4ed01c4",
   "metadata": {},
   "outputs": [],
   "source": [
    "X = data.drop('target', axis=1)\n",
    "Y = data['target']"
   ]
  },
  {
   "cell_type": "code",
   "execution_count": 128,
   "id": "50fd6a3f-86d5-4370-9a8c-dc58e839cf13",
   "metadata": {},
   "outputs": [
    {
     "data": {
      "text/plain": [
       "(0.8480415290231241, 0.1519584709768759)"
      ]
     },
     "execution_count": 7,
     "metadata": {},
     "output_type": "execute_result"
    }
   ],
   "source": [
    "list(Y).count(0)  / len(Y) ,  list(Y).count(1)  / len(Y)"
   ]
  },
  {
   "cell_type": "code",
   "execution_count": 168,
   "id": "64ebba1b-5e7f-41ad-9110-292befd988c2",
   "metadata": {},
   "outputs": [],
   "source": [
    "x_train , x_test , y_train , y_test = train_test_split(X, Y, test_size=0.15, random_state=42, stratify=Y)"
   ]
  },
  {
   "cell_type": "code",
   "execution_count": 169,
   "id": "5776d182-8323-4bbf-8525-cc47a52fc840",
   "metadata": {},
   "outputs": [
    {
     "data": {
      "text/plain": [
       "((3602, 14), (636, 14), (3602,), (636,))"
      ]
     },
     "execution_count": 9,
     "metadata": {},
     "output_type": "execute_result"
    }
   ],
   "source": [
    "x_train.shape , x_test.shape , y_train.shape , y_test.shape"
   ]
  },
  {
   "cell_type": "code",
   "execution_count": 170,
   "id": "4b262fe1-5e6a-494c-bddf-08cc041f97d5",
   "metadata": {},
   "outputs": [
    {
     "data": {
      "text/plain": [
       "(0.8481399222654081, 0.1518600777345919)"
      ]
     },
     "execution_count": 10,
     "metadata": {},
     "output_type": "execute_result"
    }
   ],
   "source": [
    "list(y_train).count(0)  / len(y_train) ,  list(y_train).count(1)  / len(y_train)"
   ]
  },
  {
   "cell_type": "code",
   "execution_count": 171,
   "id": "28b5d1ec-9b25-4f76-89aa-6b604c7402e1",
   "metadata": {},
   "outputs": [
    {
     "data": {
      "text/plain": [
       "(0.8474842767295597, 0.15251572327044025)"
      ]
     },
     "execution_count": 11,
     "metadata": {},
     "output_type": "execute_result"
    }
   ],
   "source": [
    "list(y_test).count(0)  / len(y_test) ,  list(y_test).count(1)  / len(y_test)"
   ]
  },
  {
   "cell_type": "code",
   "execution_count": 174,
   "id": "c0c120ce-0ffe-4e39-91bb-946a7230037b",
   "metadata": {},
   "outputs": [],
   "source": [
    "ros = RandomOverSampler(sampling_strategy='minority')"
   ]
  },
  {
   "cell_type": "code",
   "execution_count": 175,
   "id": "785af9e1-7a2f-4ed9-becf-4950ccf93949",
   "metadata": {},
   "outputs": [],
   "source": [
    "x_train, y_train = ros.fit_resample(x_train,y_train)"
   ]
  },
  {
   "cell_type": "code",
   "execution_count": 176,
   "id": "99615d3c-a261-45f9-90d7-c70cc0d0ff40",
   "metadata": {},
   "outputs": [
    {
     "data": {
      "text/plain": [
       "(3055, 3055)"
      ]
     },
     "execution_count": 14,
     "metadata": {},
     "output_type": "execute_result"
    }
   ],
   "source": [
    "list(y_train).count(1) , list(y_train).count(0)"
   ]
  },
  {
   "cell_type": "code",
   "execution_count": 177,
   "id": "496e6135-5e3f-4528-a268-3c23de552e39",
   "metadata": {},
   "outputs": [],
   "source": [
    "pipeline = ColumnTransformer([(\"scaler\", StandardScaler() ,numerical ),\n",
    "                              # [red , green , blue ] > [1 , 0, 0 ] \n",
    "                               (\"encoder\", OneHotEncoder() , categorical)\n",
    "                             ])"
   ]
  },
  {
   "cell_type": "code",
   "execution_count": 178,
   "id": "c49034f7-7a5b-444e-aabe-2c2d8ad75052",
   "metadata": {},
   "outputs": [],
   "source": [
    "# [high school , college , ss] > [ 1 , 0 , 0]\n",
    "# [college] > [1]"
   ]
  },
  {
   "cell_type": "code",
   "execution_count": 179,
   "id": "491e0eb2-8845-41df-afe4-4606740d1635",
   "metadata": {},
   "outputs": [],
   "source": [
    "x_train = pipeline.fit_transform(x_train)\n",
    "x_test = pipeline.transform(x_test) "
   ]
  },
  {
   "cell_type": "code",
   "execution_count": 180,
   "id": "dc8cfe26-ad5b-4538-9f65-eb348ece8a4b",
   "metadata": {},
   "outputs": [
    {
     "data": {
      "text/plain": [
       "['pipeline.joblib']"
      ]
     },
     "execution_count": 18,
     "metadata": {},
     "output_type": "execute_result"
    }
   ],
   "source": [
    "joblib.dump(pipeline, \"pipeline.joblib\")"
   ]
  },
  {
   "cell_type": "code",
   "execution_count": 181,
   "id": "dcec6888-9566-4dad-abbe-c9c67bba8a26",
   "metadata": {},
   "outputs": [
    {
     "data": {
      "text/plain": [
       "array([[-1.32160003,  0.99022778,  0.81721701, ...,  1.        ,\n",
       "         0.        ,  0.        ],\n",
       "       [ 0.18115125, -1.00986866, -0.78058012, ...,  0.        ,\n",
       "         1.        ,  0.        ],\n",
       "       [ 0.64353626,  0.99022778,  0.41776773, ...,  0.        ,\n",
       "         0.        ,  0.        ],\n",
       "       ...,\n",
       "       [ 1.33711377, -1.00986866, -0.78058012, ...,  1.        ,\n",
       "         0.        ,  0.        ],\n",
       "       [ 1.68390252, -1.00986866, -0.78058012, ...,  0.        ,\n",
       "         0.        ,  0.        ],\n",
       "       [ 0.06555499,  0.99022778,  1.61611557, ...,  1.        ,\n",
       "         0.        ,  0.        ]])"
      ]
     },
     "execution_count": 19,
     "metadata": {},
     "output_type": "execute_result"
    }
   ],
   "source": [
    "x_train"
   ]
  },
  {
   "cell_type": "code",
   "execution_count": 191,
   "id": "6990f2c3-e64c-4140-bf6c-451ad32a1d0b",
   "metadata": {},
   "outputs": [],
   "source": [
    "models = {\"random_forest\":RandomForestClassifier(), \"tree\":DecisionTreeClassifier(),\n",
    "          \"XGB\" : XGBClassifier(), \"Logistic\":LogisticRegression(),\"SVM\":SVC()}"
   ]
  },
  {
   "cell_type": "code",
   "execution_count": 192,
   "id": "b5f6e2e6-eb19-4ed6-8859-12e68c3b785e",
   "metadata": {},
   "outputs": [],
   "source": [
    "from sklearn.metrics import accuracy_score"
   ]
  },
  {
   "cell_type": "code",
   "execution_count": 193,
   "id": "c1362338-9683-437d-a80a-6b299f284ec1",
   "metadata": {},
   "outputs": [
    {
     "name": "stdout",
     "output_type": "stream",
     "text": [
      "\n",
      "\n",
      "\n",
      "\n",
      " random_forest\n",
      "Training Accuracy is 1.0\n",
      "Accuracy Score is 0.8286163522012578\n",
      "Training F1 Score is 1.0\n",
      "Testing F1 Score is 0.06837606837606838\n",
      "              precision    recall  f1-score   support\n",
      "\n",
      "           0       0.85      0.97      0.91       539\n",
      "           1       0.20      0.04      0.07        97\n",
      "\n",
      "    accuracy                           0.83       636\n",
      "   macro avg       0.52      0.51      0.49       636\n",
      "weighted avg       0.75      0.83      0.78       636\n",
      "\n"
     ]
    },
    {
     "data": {
      "image/png": "[encoded data removed]",
      "text/plain": [
       "<Figure size 700x700 with 2 Axes>"
      ]
     },
     "metadata": {},
     "output_type": "display_data"
    },
    {
     "name": "stdout",
     "output_type": "stream",
     "text": [
      "\n",
      "\n",
      "\n",
      "\n",
      " tree\n",
      "Training Accuracy is 1.0\n",
      "Accuracy Score is 0.7515723270440252\n",
      "Training F1 Score is 1.0\n",
      "Testing F1 Score is 0.18556701030927836\n",
      "              precision    recall  f1-score   support\n",
      "\n",
      "           0       0.85      0.85      0.85       539\n",
      "           1       0.19      0.19      0.19        97\n",
      "\n",
      "    accuracy                           0.75       636\n",
      "   macro avg       0.52      0.52      0.52       636\n",
      "weighted avg       0.75      0.75      0.75       636\n",
      "\n"
     ]
    },
    {
     "data": {
      "image/png": "[encoded data removed]",
      "text/plain": [
       "<Figure size 700x700 with 2 Axes>"
      ]
     },
     "metadata": {},
     "output_type": "display_data"
    },
    {
     "name": "stdout",
     "output_type": "stream",
     "text": [
      "\n",
      "\n",
      "\n",
      "\n",
      " XGB\n",
      "Training Accuracy is 0.995417348608838\n",
      "Accuracy Score is 0.7877358490566038\n",
      "Training F1 Score is 0.9954248366013072\n",
      "Testing F1 Score is 0.20118343195266272\n",
      "              precision    recall  f1-score   support\n",
      "\n",
      "           0       0.86      0.90      0.88       539\n",
      "           1       0.24      0.18      0.20        97\n",
      "\n",
      "    accuracy                           0.79       636\n",
      "   macro avg       0.55      0.54      0.54       636\n",
      "weighted avg       0.76      0.79      0.77       636\n",
      "\n"
     ]
    },
    {
     "data": {
      "image/png": "[encoded data removed]",
      "text/plain": [
       "<Figure size 700x700 with 2 Axes>"
      ]
     },
     "metadata": {},
     "output_type": "display_data"
    },
    {
     "name": "stdout",
     "output_type": "stream",
     "text": [
      "\n",
      "\n",
      "\n",
      "\n",
      " Logistic\n",
      "Training Accuracy is 0.6864157119476268\n",
      "Accuracy Score is 0.6729559748427673\n",
      "Training F1 Score is 0.6875407697325505\n",
      "Testing F1 Score is 0.35802469135802467\n",
      "              precision    recall  f1-score   support\n",
      "\n",
      "           0       0.90      0.69      0.78       539\n",
      "           1       0.26      0.60      0.36        97\n",
      "\n",
      "    accuracy                           0.67       636\n",
      "   macro avg       0.58      0.64      0.57       636\n",
      "weighted avg       0.81      0.67      0.72       636\n",
      "\n"
     ]
    },
    {
     "data": {
      "image/png": "[encoded data removed]",
      "text/plain": [
       "<Figure size 700x700 with 2 Axes>"
      ]
     },
     "metadata": {},
     "output_type": "display_data"
    },
    {
     "name": "stdout",
     "output_type": "stream",
     "text": [
      "\n",
      "\n",
      "\n",
      "\n",
      " SVM\n",
      "Training Accuracy is 0.7553191489361702\n",
      "Accuracy Score is 0.690251572327044\n",
      "Training F1 Score is 0.7526881720430109\n",
      "Testing F1 Score is 0.30388692579505294\n",
      "              precision    recall  f1-score   support\n",
      "\n",
      "           0       0.88      0.73      0.80       539\n",
      "           1       0.23      0.44      0.30        97\n",
      "\n",
      "    accuracy                           0.69       636\n",
      "   macro avg       0.56      0.59      0.55       636\n",
      "weighted avg       0.78      0.69      0.73       636\n",
      "\n"
     ]
    },
    {
     "data": {
      "image/png": "[encoded data removed]",
      "text/plain": [
       "<Figure size 700x700 with 2 Axes>"
      ]
     },
     "metadata": {},
     "output_type": "display_data"
    }
   ],
   "source": [
    "for name, model in models.items():\n",
    "    print(\"\\n\\n\\n\\n\",name)\n",
    "    model.fit(x_train, y_train)\n",
    "    \n",
    "    print(F\"Training Accuracy is {model.score(x_train, y_train)}\")\n",
    "    y_pred = model.predict(x_test)\n",
    "    print(f\"Accuracy Score is {accuracy_score(y_pred, y_test)}\")\n",
    "    y_pred_train = model.predict(x_train)\n",
    "    \n",
    "    print(f\"Training F1 Score is {f1_score(y_pred_train, y_train)}\")\n",
    "\n",
    "    print(f\"Testing F1 Score is {f1_score(y_pred, y_test)}\")\n",
    "    print(classification_report(y_test, y_pred))  \n",
    "    # specify axis with  figure size \n",
    "    fig,ax = plt.subplots(figsize=(7,7))\n",
    "    # getting confusion matrix\n",
    "    confusion = confusion_matrix(y_test, y_pred)\n",
    "    # confusionMatraxDisplay is used to create a confusion matrix plot from confusion\n",
    "    display_con = ConfusionMatrixDisplay(confusion,display_labels=['Normal',\"CHD\"])\n",
    "    # the confusion matrix with respect to axis defined above\n",
    "    display_con.plot(ax=ax)\n",
    "    plt.show()"
   ]
  },
  {
   "cell_type": "code",
   "execution_count": 194,
   "id": "2430957c-ecfd-44c1-a875-2ceb5f4b5dc5",
   "metadata": {},
   "outputs": [],
   "source": [
    "import optuna"
   ]
  },
  {
   "cell_type": "code",
   "execution_count": 195,
   "id": "338aba08-f74f-49f0-9843-454aec5426e0",
   "metadata": {},
   "outputs": [],
   "source": [
    "def objective(trail):\n",
    "    \n",
    "    subsample= trail.suggest_float(\"subsample\", 0.5,1)\n",
    "    n_estimators = trail.suggest_int(\"n_estimators\", 50,500)\n",
    "    max_depth = trail.suggest_int(\"max_depth\", 3,10)\n",
    "    learning_rate = trail.suggest_float(\"learning_rate\", 0.01,0.3)\n",
    "    colsample_bytree = trail.suggest_float(\"colsample_bytree\", 0.5,1)\n",
    "    min_child_weight = trail.suggest_int(\"min_child_weight\",1,5)\n",
    "    gamma = trail.suggest_float(\"gamma\", 0,5)trial.suggest_categorical(\"kernel\", [\"linear\", \"rbf\", \"poly\", \"sigmoid\"])\n",
    "\n",
    "    \n",
    "    model = XGBClassifier(subsample=subsample, n_estimators=n_estimators,max_depth = max_depth,\n",
    "                         learning_rate=learning_rate,colsample_bytree=colsample_bytree,\n",
    "                         min_child_weight=min_child_weight,gamma=gamma)\n",
    "    \n",
    "    model.fit(x_train, y_train)\n",
    "    \n",
    "    y_pred = model.predict(x_test)\n",
    "    \n",
    "\n",
    "    score = f1_score(y_pred, y_test)\n",
    "    \n",
    "    return score\n",
    "    \n",
    "    \n",
    "    "
   ]
  },
  {
   "cell_type": "code",
   "execution_count": 187,
   "id": "2b15bae3-1db7-41e0-9c46-bc280887cb3f",
   "metadata": {},
   "outputs": [
    {
     "name": "stderr",
     "output_type": "stream",
     "text": [
      "[I 2023-12-12 14:05:48,878] A new study created in memory with name: no-name-2e32d5d3-d701-46c1-960d-dc74a3f85e77\n",
      "[I 2023-12-12 14:05:51,891] Trial 0 finished with value: 0.22115384615384617 and parameters: {'C': 83389.31917532039, 'kernel': 'poly', 'degree': 5, 'gamma': 68050.1964003188}. Best is trial 0 with value: 0.22115384615384617.\n",
      "[I 2023-12-12 14:05:52,494] Trial 1 finished with value: 0.2402234636871508 and parameters: {'C': 40278.32786821591, 'kernel': 'sigmoid', 'degree': 2, 'gamma': 13070.740868305687}. Best is trial 1 with value: 0.2402234636871508.\n"
     ]
    }
   ],
   "source": [
    "study = optuna.create_study(direction='maximize')\n",
    "study.optimize(objective, n_trials=50)\n",
    "\n",
    "# Print the results\n",
    "print('Number of finished trials: ', len(study.trials))\n",
    "print('Best trial:')\n",
    "trial = study.best_trial\n",
    "print('Value: ', trial.value)\n",
    "print('Params: ')\n",
    "for key, value in trial.params.items():\n",
    "    print(f'    {key}: {value}')"
   ]
  },
  {
   "cell_type": "code",
   "execution_count": 188,
   "id": "d7a3187e-fbb6-4271-a5cb-2cb5b6e9b181",
   "metadata": {},
   "outputs": [],
   "source": [
    "{'subsample': 1.0, 'n_estimators': 50, 'max_depth': 3, 'learning_rate': 0.1, 'gamma': 0, 'colsample_bytree': 0.9}"
   ]
  },
  {
   "cell_type": "code",
   "execution_count": null,
   "id": "c00f4eb3-3cf1-4762-9bf8-e24e35d86ea9",
   "metadata": {},
   "outputs": [],
   "source": [
    "param_grid = {\n",
    "    'learning_rate': [0.01, 0.1, 0.3],\n",
    "    'n_estimators': [100, 300, 500],\n",
    "    'max_depth': [3, 5, 7],\n",
    "    'min_child_weight': [1, 3, 5],\n",
    "    'subsample': [0.8, 1.0],\n",
    "    'colsample_bytree': [0.8, 1.0],\n",
    "    'gamma': [0, 0.1, 0.2],\n",
    "}\n"
   ]
  },
  {
   "cell_type": "code",
   "execution_count": null,
   "id": "580143a1-6d34-4f9f-ab40-b02d68c4b44a",
   "metadata": {},
   "outputs": [],
   "source": []
  },
  {
   "cell_type": "code",
   "execution_count": null,
   "id": "76ffbc7e-c5a0-4958-996e-68686ed00b02",
   "metadata": {},
   "outputs": [
    {
     "data": {
      "text/plain": [
       "['best_model.joblib']"
      ]
     },
     "execution_count": 112,
     "metadata": {},
     "output_type": "execute_result"
    }
   ],
   "source": [
    "joblib.dump(xgb, \"best_model.joblib\")"
   ]
  },
  {
   "cell_type": "code",
   "execution_count": null,
   "id": "3dcf9cab-4f28-4dce-a3fc-6f44f0162238",
   "metadata": {},
   "outputs": [],
   "source": [
    "del xgb"
   ]
  },
  {
   "cell_type": "markdown",
   "id": "bb206889-12a6-4550-b932-6155354b8688",
   "metadata": {},
   "source": [
    "### Deployment \n",
    " * Json : {\"gender\":\"male\", \"eduation\":\"high School\" , age : 18}\n",
    " * data frame : apply the same transformation that was applied to training data"
   ]
  },
  {
   "cell_type": "code",
   "execution_count": 114,
   "id": "6e8146cd-b138-4cf2-9e85-287692bba714",
   "metadata": {},
   "outputs": [],
   "source": [
    "input_data = {'gender': 'Male',\n",
    " 'age': 39,\n",
    " 'education': 'Higher Degree',\n",
    " 'currentSmoker': 0,\n",
    " 'cigsPerDay': 0.0,\n",
    " 'BPMeds': 0.0,\n",
    " 'prevalentStroke': 0,\n",
    " 'prevalentHyp': 0,\n",
    " 'diabetes': 0,\n",
    " 'totChol': 195.0,\n",
    " 'sysBP': 106.0,\n",
    " 'diaBP': 70.0,\n",
    " 'BMI': 26.97,\n",
    " 'heartRate': 80.0,\n",
    " 'glucose': 77.0}"
   ]
  },
  {
   "cell_type": "code",
   "execution_count": 115,
   "id": "ebde9e0c-5f55-4ced-a418-3a096fa96def",
   "metadata": {},
   "outputs": [],
   "source": [
    "del pipeline"
   ]
  },
  {
   "cell_type": "code",
   "execution_count": 116,
   "id": "02aff3d0-aade-42f7-a85a-9b9cb68dc903",
   "metadata": {},
   "outputs": [],
   "source": [
    "pipeline = joblib.load(\"pipeline.joblib\")"
   ]
  },
  {
   "cell_type": "code",
   "execution_count": 117,
   "id": "a2f12673-c200-45f5-99ac-7c954b78d2ef",
   "metadata": {},
   "outputs": [
    {
     "data": {
      "text/html": [
       "<style>#sk-container-id-6 {color: black;background-color: white;}#sk-container-id-6 pre{padding: 0;}#sk-container-id-6 div.sk-toggleable {background-color: white;}#sk-container-id-6 label.sk-toggleable__label {cursor: pointer;display: block;width: 100%;margin-bottom: 0;padding: 0.3em;box-sizing: border-box;text-align: center;}#sk-container-id-6 label.sk-toggleable__label-arrow:before {content: \"▸\";float: left;margin-right: 0.25em;color: #696969;}#sk-container-id-6 label.sk-toggleable__label-arrow:hover:before {color: black;}#sk-container-id-6 div.sk-estimator:hover label.sk-toggleable__label-arrow:before {color: black;}#sk-container-id-6 div.sk-toggleable__content {max-height: 0;max-width: 0;overflow: hidden;text-align: left;background-color: #f0f8ff;}#sk-container-id-6 div.sk-toggleable__content pre {margin: 0.2em;color: black;border-radius: 0.25em;background-color: #f0f8ff;}#sk-container-id-6 input.sk-toggleable__control:checked~div.sk-toggleable__content {max-height: 200px;max-width: 100%;overflow: auto;}#sk-container-id-6 input.sk-toggleable__control:checked~label.sk-toggleable__label-arrow:before {content: \"▾\";}#sk-container-id-6 div.sk-estimator input.sk-toggleable__control:checked~label.sk-toggleable__label {background-color: #d4ebff;}#sk-container-id-6 div.sk-label input.sk-toggleable__control:checked~label.sk-toggleable__label {background-color: #d4ebff;}#sk-container-id-6 input.sk-hidden--visually {border: 0;clip: rect(1px 1px 1px 1px);clip: rect(1px, 1px, 1px, 1px);height: 1px;margin: -1px;overflow: hidden;padding: 0;position: absolute;width: 1px;}#sk-container-id-6 div.sk-estimator {font-family: monospace;background-color: #f0f8ff;border: 1px dotted black;border-radius: 0.25em;box-sizing: border-box;margin-bottom: 0.5em;}#sk-container-id-6 div.sk-estimator:hover {background-color: #d4ebff;}#sk-container-id-6 div.sk-parallel-item::after {content: \"\";width: 100%;border-bottom: 1px solid gray;flex-grow: 1;}#sk-container-id-6 div.sk-label:hover label.sk-toggleable__label {background-color: #d4ebff;}#sk-container-id-6 div.sk-serial::before {content: \"\";position: absolute;border-left: 1px solid gray;box-sizing: border-box;top: 0;bottom: 0;left: 50%;z-index: 0;}#sk-container-id-6 div.sk-serial {display: flex;flex-direction: column;align-items: center;background-color: white;padding-right: 0.2em;padding-left: 0.2em;position: relative;}#sk-container-id-6 div.sk-item {position: relative;z-index: 1;}#sk-container-id-6 div.sk-parallel {display: flex;align-items: stretch;justify-content: center;background-color: white;position: relative;}#sk-container-id-6 div.sk-item::before, #sk-container-id-6 div.sk-parallel-item::before {content: \"\";position: absolute;border-left: 1px solid gray;box-sizing: border-box;top: 0;bottom: 0;left: 50%;z-index: -1;}#sk-container-id-6 div.sk-parallel-item {display: flex;flex-direction: column;z-index: 1;position: relative;background-color: white;}#sk-container-id-6 div.sk-parallel-item:first-child::after {align-self: flex-end;width: 50%;}#sk-container-id-6 div.sk-parallel-item:last-child::after {align-self: flex-start;width: 50%;}#sk-container-id-6 div.sk-parallel-item:only-child::after {width: 0;}#sk-container-id-6 div.sk-dashed-wrapped {border: 1px dashed gray;margin: 0 0.4em 0.5em 0.4em;box-sizing: border-box;padding-bottom: 0.4em;background-color: white;}#sk-container-id-6 div.sk-label label {font-family: monospace;font-weight: bold;display: inline-block;line-height: 1.2em;}#sk-container-id-6 div.sk-label-container {text-align: center;}#sk-container-id-6 div.sk-container {/* jupyter's `normalize.less` sets `[hidden] { display: none; }` but bootstrap.min.css set `[hidden] { display: none !important; }` so we also need the `!important` here to be able to override the default hidden behavior on the sphinx rendered scikit-learn.org. See: https://github.com/scikit-learn/scikit-learn/issues/21755 */display: inline-block !important;position: relative;}#sk-container-id-6 div.sk-text-repr-fallback {display: none;}</style><div id=\"sk-container-id-6\" class=\"sk-top-container\"><div class=\"sk-text-repr-fallback\"><pre>ColumnTransformer(transformers=[(&#x27;scaler&#x27;, StandardScaler(),\n",
       "                                 [&#x27;age&#x27;, &#x27;currentSmoker&#x27;, &#x27;cigsPerDay&#x27;,\n",
       "                                  &#x27;BPMeds&#x27;, &#x27;prevalentStroke&#x27;, &#x27;prevalentHyp&#x27;,\n",
       "                                  &#x27;diabetes&#x27;, &#x27;totChol&#x27;, &#x27;sysBP&#x27;, &#x27;diaBP&#x27;,\n",
       "                                  &#x27;BMI&#x27;, &#x27;heartRate&#x27;, &#x27;glucose&#x27;]),\n",
       "                                (&#x27;encoder&#x27;, OneHotEncoder(),\n",
       "                                 [&#x27;gender&#x27;, &#x27;education&#x27;])])</pre><b>In a Jupyter environment, please rerun this cell to show the HTML representation or trust the notebook. <br />On GitHub, the HTML representation is unable to render, please try loading this page with nbviewer.org.</b></div><div class=\"sk-container\" hidden><div class=\"sk-item sk-dashed-wrapped\"><div class=\"sk-label-container\"><div class=\"sk-label sk-toggleable\"><input class=\"sk-toggleable__control sk-hidden--visually\" id=\"sk-estimator-id-14\" type=\"checkbox\" ><label for=\"sk-estimator-id-14\" class=\"sk-toggleable__label sk-toggleable__label-arrow\">ColumnTransformer</label><div class=\"sk-toggleable__content\"><pre>ColumnTransformer(transformers=[(&#x27;scaler&#x27;, StandardScaler(),\n",
       "                                 [&#x27;age&#x27;, &#x27;currentSmoker&#x27;, &#x27;cigsPerDay&#x27;,\n",
       "                                  &#x27;BPMeds&#x27;, &#x27;prevalentStroke&#x27;, &#x27;prevalentHyp&#x27;,\n",
       "                                  &#x27;diabetes&#x27;, &#x27;totChol&#x27;, &#x27;sysBP&#x27;, &#x27;diaBP&#x27;,\n",
       "                                  &#x27;BMI&#x27;, &#x27;heartRate&#x27;, &#x27;glucose&#x27;]),\n",
       "                                (&#x27;encoder&#x27;, OneHotEncoder(),\n",
       "                                 [&#x27;gender&#x27;, &#x27;education&#x27;])])</pre></div></div></div><div class=\"sk-parallel\"><div class=\"sk-parallel-item\"><div class=\"sk-item\"><div class=\"sk-label-container\"><div class=\"sk-label sk-toggleable\"><input class=\"sk-toggleable__control sk-hidden--visually\" id=\"sk-estimator-id-15\" type=\"checkbox\" ><label for=\"sk-estimator-id-15\" class=\"sk-toggleable__label sk-toggleable__label-arrow\">scaler</label><div class=\"sk-toggleable__content\"><pre>[&#x27;age&#x27;, &#x27;currentSmoker&#x27;, &#x27;cigsPerDay&#x27;, &#x27;BPMeds&#x27;, &#x27;prevalentStroke&#x27;, &#x27;prevalentHyp&#x27;, &#x27;diabetes&#x27;, &#x27;totChol&#x27;, &#x27;sysBP&#x27;, &#x27;diaBP&#x27;, &#x27;BMI&#x27;, &#x27;heartRate&#x27;, &#x27;glucose&#x27;]</pre></div></div></div><div class=\"sk-serial\"><div class=\"sk-item\"><div class=\"sk-estimator sk-toggleable\"><input class=\"sk-toggleable__control sk-hidden--visually\" id=\"sk-estimator-id-16\" type=\"checkbox\" ><label for=\"sk-estimator-id-16\" class=\"sk-toggleable__label sk-toggleable__label-arrow\">StandardScaler</label><div class=\"sk-toggleable__content\"><pre>StandardScaler()</pre></div></div></div></div></div></div><div class=\"sk-parallel-item\"><div class=\"sk-item\"><div class=\"sk-label-container\"><div class=\"sk-label sk-toggleable\"><input class=\"sk-toggleable__control sk-hidden--visually\" id=\"sk-estimator-id-17\" type=\"checkbox\" ><label for=\"sk-estimator-id-17\" class=\"sk-toggleable__label sk-toggleable__label-arrow\">encoder</label><div class=\"sk-toggleable__content\"><pre>[&#x27;gender&#x27;, &#x27;education&#x27;]</pre></div></div></div><div class=\"sk-serial\"><div class=\"sk-item\"><div class=\"sk-estimator sk-toggleable\"><input class=\"sk-toggleable__control sk-hidden--visually\" id=\"sk-estimator-id-18\" type=\"checkbox\" ><label for=\"sk-estimator-id-18\" class=\"sk-toggleable__label sk-toggleable__label-arrow\">OneHotEncoder</label><div class=\"sk-toggleable__content\"><pre>OneHotEncoder()</pre></div></div></div></div></div></div></div></div></div></div>"
      ],
      "text/plain": [
       "ColumnTransformer(transformers=[('scaler', StandardScaler(),\n",
       "                                 ['age', 'currentSmoker', 'cigsPerDay',\n",
       "                                  'BPMeds', 'prevalentStroke', 'prevalentHyp',\n",
       "                                  'diabetes', 'totChol', 'sysBP', 'diaBP',\n",
       "                                  'BMI', 'heartRate', 'glucose']),\n",
       "                                ('encoder', OneHotEncoder(),\n",
       "                                 ['gender', 'education'])])"
      ]
     },
     "execution_count": 117,
     "metadata": {},
     "output_type": "execute_result"
    }
   ],
   "source": [
    "pipeline"
   ]
  },
  {
   "cell_type": "code",
   "execution_count": 118,
   "id": "371fda0d-9a27-4ffa-9995-0b071cbb7ee2",
   "metadata": {},
   "outputs": [],
   "source": [
    "model = joblib.load(\"best_model.joblib\")"
   ]
  },
  {
   "cell_type": "code",
   "execution_count": 129,
   "id": "ba2fd0db-8537-4bb6-bb2c-cff4b053804e",
   "metadata": {},
   "outputs": [],
   "source": [
    "def perform_prediction(input_data, pipeline, model):\n",
    "    \n",
    "    intput_df = pd.DataFrame(input_data, index=[0])\n",
    "    \n",
    "    preprocessed_data = pipeline.transform(intput_df)\n",
    "    \n",
    "    prediction = model.predict(preprocessed_data)\n",
    "    \n",
    "    return {\"prediction\":prediction[0]}"
   ]
  },
  {
   "cell_type": "code",
   "execution_count": 130,
   "id": "883e8748-7f6b-42ac-976c-4ce99233af3b",
   "metadata": {},
   "outputs": [
    {
     "data": {
      "text/plain": [
       "{'prediction': 0}"
      ]
     },
     "execution_count": 130,
     "metadata": {},
     "output_type": "execute_result"
    }
   ],
   "source": [
    "perform_prediction(input_data,pipeline,model)"
   ]
  },
  {
   "cell_type": "code",
   "execution_count": null,
   "id": "7d6148a9-e2f1-40fb-92eb-c2aa7ee513f3",
   "metadata": {},
   "outputs": [],
   "source": []
  }
 ],
 "metadata": {
  "kernelspec": {
   "display_name": "Python 3 (ipykernel)",
   "language": "python",
   "name": "python3"
  },
  "language_info": {
   "codemirror_mode": {
    "name": "ipython",
    "version": 3
   },
   "file_extension": ".py",
   "mimetype": "text/x-python",
   "name": "python",
   "nbconvert_exporter": "python",
   "pygments_lexer": "ipython3",
   "version": "3.9.13"
  }
 },
 "nbformat": 4,
 "nbformat_minor": 5
}
