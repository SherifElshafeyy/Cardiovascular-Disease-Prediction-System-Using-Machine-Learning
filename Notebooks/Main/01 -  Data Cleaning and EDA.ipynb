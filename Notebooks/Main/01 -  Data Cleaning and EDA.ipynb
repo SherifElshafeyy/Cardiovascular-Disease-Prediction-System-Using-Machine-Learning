{
 "cells": [
  {
   "cell_type": "markdown",
   "id": "4545abf6",
   "metadata": {},
   "source": [
    "<a id=\"2\"></a>\n",
    "<h1 style=\"background-color:pink;font-family:newtimeroman;font-size:300%;text-align:center;border-radius: 15px 50px;\">Welcome to our Graduation Project</h1>"
   ]
  },
  {
   "cell_type": "markdown",
   "id": "6e8f8fdf",
   "metadata": {},
   "source": [
    "<a id=\"1.2\"></a>\n",
    "<h3 style=\"background-color:pink;font-family:newtimeroman;font-size:200%;text-align:center;border-radius: 15px 50px;\">Dataset Overview</h3>"
   ]
  },
  {
   "cell_type": "markdown",
   "id": "b526fd00",
   "metadata": {},
   "source": [
    "The **Framingham Heart Study** is considering a turning point in identifying the **risk factors of heart disease**, and is one of the most important epidemiological studies conducted.\n",
    "\n",
    "A lot of our present understanding of cardiovascular disease can be attributed to this study.\n",
    "\n",
    "To better understand heart disease and the measures that could be taken to combat it, the Framingham Heart Study (FHS) was established in the late 1940's.\n",
    "\n",
    "It was a **joint project of Boston University and the National Heart, Lung, and Blood Institute (NHLBI)**.\n",
    "\n",
    "The **aim** of the study was to to **better understand cardiovascular disease by enrolling people free of the disease, and see who** \n",
    "\n",
    "**developed the disease in the next 10 years.**"
   ]
  },
  {
   "cell_type": "markdown",
   "id": "0eaf1a73",
   "metadata": {},
   "source": [
    "|         Column       |                             Description                            |\n",
    "|:-------------------:|:---------------------------------------------------------------:|\n",
    "|         Gender        |                Male or female (Nominal)                            |\n",
    "|         Age         |                Age of the patient (Continuous)                      |\n",
    "|   Current Smoker    |     Whether or not the patient is a current smoker (Nominal)      |\n",
    "|    Cigs Per Day     |     The number of cigarettes that the person smoked on average in one day (Continuous) |\n",
    "|      BP Meds        |     Whether or not the patient was on blood pressure medication (Nominal) |\n",
    "|  Prevalent Stroke   |     Whether or not the patient had previously had a stroke (Nominal) |\n",
    "|   Prevalent Hyp     |     Whether or not the patient was hypertensive (Nominal)          |\n",
    "|      Diabetes       |     Whether or not the patient had diabetes (Nominal)               |\n",
    "|      Tot Chol       |     Total cholesterol level (Continuous)                            |\n",
    "|       Sys BP        |     Systolic blood pressure (Continuous)                            |\n",
    "|       Dia BP        |     Diastolic blood pressure (Continuous)                           |\n",
    "|         BMI         |     Body Mass Index (Continuous)                                    |\n",
    "|     Heart Rate      |     Heart rate (Continuous - In medical research, variables such as heart rate though in fact discrete, yet are considered continuous because of the large number of possible values) |\n",
    "|       Glucose       |     Glucose level (Continuous)                                      |\n",
    "|10-year risk of coronary heart disease CHD| Binary variable indicating whether the patient has a 10-year risk of coronary heart disease (CHD) (Binary: \"1\" means \"Yes\", \"0\" means \"No\") |"
   ]
  },
  {
   "cell_type": "markdown",
   "id": "f07c892c",
   "metadata": {},
   "source": [
    "<a id=\"2.1\"></a>\n",
    "<h3 style=\"background-color:pink;font-family:newtimeroman;font-size:200%;text-align:center;border-radius: 15px 50px;\">Libraries & loading the data</h3>"
   ]
  },
  {
   "cell_type": "code",
   "execution_count": 1,
   "id": "5dfcc3e5-dcc1-4923-a87e-c455e9b6a62e",
   "metadata": {},
   "outputs": [
    {
     "name": "stdout",
     "output_type": "stream",
     "text": [
      "Requirement already satisfied: missingno in c:\\users\\20155\\anaconda3\\lib\\site-packages (0.5.2)\n",
      "Requirement already satisfied: matplotlib in c:\\users\\20155\\anaconda3\\lib\\site-packages (from missingno) (3.3.4)\n",
      "Requirement already satisfied: numpy in c:\\users\\20155\\anaconda3\\lib\\site-packages (from missingno) (1.20.1)\n",
      "Requirement already satisfied: scipy in c:\\users\\20155\\anaconda3\\lib\\site-packages (from missingno) (1.6.2)\n",
      "Requirement already satisfied: seaborn in c:\\users\\20155\\anaconda3\\lib\\site-packages (from missingno) (0.11.1)\n",
      "Requirement already satisfied: cycler>=0.10 in c:\\users\\20155\\anaconda3\\lib\\site-packages (from matplotlib->missingno) (0.10.0)\n",
      "Requirement already satisfied: kiwisolver>=1.0.1 in c:\\users\\20155\\anaconda3\\lib\\site-packages (from matplotlib->missingno) (1.3.1)\n",
      "Requirement already satisfied: python-dateutil>=2.1 in c:\\users\\20155\\anaconda3\\lib\\site-packages (from matplotlib->missingno) (2.8.1)\n",
      "Requirement already satisfied: pyparsing!=2.0.4,!=2.1.2,!=2.1.6,>=2.0.3 in c:\\users\\20155\\anaconda3\\lib\\site-packages (from matplotlib->missingno) (2.4.7)\n",
      "Requirement already satisfied: pillow>=6.2.0 in c:\\users\\20155\\anaconda3\\lib\\site-packages (from matplotlib->missingno) (8.2.0)\n",
      "Requirement already satisfied: six in c:\\users\\20155\\anaconda3\\lib\\site-packages (from cycler>=0.10->matplotlib->missingno) (1.15.0)\n",
      "Requirement already satisfied: pandas>=0.23 in c:\\users\\20155\\anaconda3\\lib\\site-packages (from seaborn->missingno) (1.2.4)\n",
      "Requirement already satisfied: pytz>=2017.3 in c:\\users\\20155\\anaconda3\\lib\\site-packages (from pandas>=0.23->seaborn->missingno) (2021.1)\n",
      "Note: you may need to restart the kernel to use updated packages.\n"
     ]
    }
   ],
   "source": [
    "pip install missingno"
   ]
  },
  {
   "cell_type": "code",
   "execution_count": 2,
   "id": "d9b5facf",
   "metadata": {},
   "outputs": [],
   "source": [
    "import numpy as np\n",
    "import pandas as pd\n",
    "import matplotlib\n",
    "import matplotlib.pyplot as plt\n",
    "import seaborn as sns\n",
    "import plotly.express as px\n",
    "import plotly.graph_objs as go"
   ]
  },
  {
   "cell_type": "code",
   "execution_count": 3,
   "id": "b65eb808",
   "metadata": {},
   "outputs": [
    {
     "data": {
      "text/html": [
       "<div>\n",
       "<style scoped>\n",
       "    .dataframe tbody tr th:only-of-type {\n",
       "        vertical-align: middle;\n",
       "    }\n",
       "\n",
       "    .dataframe tbody tr th {\n",
       "        vertical-align: top;\n",
       "    }\n",
       "\n",
       "    .dataframe thead th {\n",
       "        text-align: right;\n",
       "    }\n",
       "</style>\n",
       "<table border=\"1\" class=\"dataframe\">\n",
       "  <thead>\n",
       "    <tr style=\"text-align: right;\">\n",
       "      <th></th>\n",
       "      <th>male</th>\n",
       "      <th>age</th>\n",
       "      <th>education</th>\n",
       "      <th>currentSmoker</th>\n",
       "      <th>cigsPerDay</th>\n",
       "      <th>BPMeds</th>\n",
       "      <th>prevalentStroke</th>\n",
       "      <th>prevalentHyp</th>\n",
       "      <th>diabetes</th>\n",
       "      <th>totChol</th>\n",
       "      <th>sysBP</th>\n",
       "      <th>diaBP</th>\n",
       "      <th>BMI</th>\n",
       "      <th>heartRate</th>\n",
       "      <th>glucose</th>\n",
       "      <th>TenYearCHD</th>\n",
       "    </tr>\n",
       "  </thead>\n",
       "  <tbody>\n",
       "    <tr>\n",
       "      <th>0</th>\n",
       "      <td>1</td>\n",
       "      <td>39</td>\n",
       "      <td>4.0</td>\n",
       "      <td>0</td>\n",
       "      <td>0.0</td>\n",
       "      <td>0.0</td>\n",
       "      <td>0</td>\n",
       "      <td>0</td>\n",
       "      <td>0</td>\n",
       "      <td>195.0</td>\n",
       "      <td>106.0</td>\n",
       "      <td>70.0</td>\n",
       "      <td>26.97</td>\n",
       "      <td>80.0</td>\n",
       "      <td>77.0</td>\n",
       "      <td>0</td>\n",
       "    </tr>\n",
       "    <tr>\n",
       "      <th>1</th>\n",
       "      <td>0</td>\n",
       "      <td>46</td>\n",
       "      <td>2.0</td>\n",
       "      <td>0</td>\n",
       "      <td>0.0</td>\n",
       "      <td>0.0</td>\n",
       "      <td>0</td>\n",
       "      <td>0</td>\n",
       "      <td>0</td>\n",
       "      <td>250.0</td>\n",
       "      <td>121.0</td>\n",
       "      <td>81.0</td>\n",
       "      <td>28.73</td>\n",
       "      <td>95.0</td>\n",
       "      <td>76.0</td>\n",
       "      <td>0</td>\n",
       "    </tr>\n",
       "    <tr>\n",
       "      <th>2</th>\n",
       "      <td>1</td>\n",
       "      <td>48</td>\n",
       "      <td>1.0</td>\n",
       "      <td>1</td>\n",
       "      <td>20.0</td>\n",
       "      <td>0.0</td>\n",
       "      <td>0</td>\n",
       "      <td>0</td>\n",
       "      <td>0</td>\n",
       "      <td>245.0</td>\n",
       "      <td>127.5</td>\n",
       "      <td>80.0</td>\n",
       "      <td>25.34</td>\n",
       "      <td>75.0</td>\n",
       "      <td>70.0</td>\n",
       "      <td>0</td>\n",
       "    </tr>\n",
       "    <tr>\n",
       "      <th>3</th>\n",
       "      <td>0</td>\n",
       "      <td>61</td>\n",
       "      <td>3.0</td>\n",
       "      <td>1</td>\n",
       "      <td>30.0</td>\n",
       "      <td>0.0</td>\n",
       "      <td>0</td>\n",
       "      <td>1</td>\n",
       "      <td>0</td>\n",
       "      <td>225.0</td>\n",
       "      <td>150.0</td>\n",
       "      <td>95.0</td>\n",
       "      <td>28.58</td>\n",
       "      <td>65.0</td>\n",
       "      <td>103.0</td>\n",
       "      <td>1</td>\n",
       "    </tr>\n",
       "    <tr>\n",
       "      <th>4</th>\n",
       "      <td>0</td>\n",
       "      <td>46</td>\n",
       "      <td>3.0</td>\n",
       "      <td>1</td>\n",
       "      <td>23.0</td>\n",
       "      <td>0.0</td>\n",
       "      <td>0</td>\n",
       "      <td>0</td>\n",
       "      <td>0</td>\n",
       "      <td>285.0</td>\n",
       "      <td>130.0</td>\n",
       "      <td>84.0</td>\n",
       "      <td>23.10</td>\n",
       "      <td>85.0</td>\n",
       "      <td>85.0</td>\n",
       "      <td>0</td>\n",
       "    </tr>\n",
       "  </tbody>\n",
       "</table>\n",
       "</div>"
      ],
      "text/plain": [
       "   male  age  education  currentSmoker  cigsPerDay  BPMeds  prevalentStroke  \\\n",
       "0     1   39        4.0              0         0.0     0.0                0   \n",
       "1     0   46        2.0              0         0.0     0.0                0   \n",
       "2     1   48        1.0              1        20.0     0.0                0   \n",
       "3     0   61        3.0              1        30.0     0.0                0   \n",
       "4     0   46        3.0              1        23.0     0.0                0   \n",
       "\n",
       "   prevalentHyp  diabetes  totChol  sysBP  diaBP    BMI  heartRate  glucose  \\\n",
       "0             0         0    195.0  106.0   70.0  26.97       80.0     77.0   \n",
       "1             0         0    250.0  121.0   81.0  28.73       95.0     76.0   \n",
       "2             0         0    245.0  127.5   80.0  25.34       75.0     70.0   \n",
       "3             1         0    225.0  150.0   95.0  28.58       65.0    103.0   \n",
       "4             0         0    285.0  130.0   84.0  23.10       85.0     85.0   \n",
       "\n",
       "   TenYearCHD  \n",
       "0           0  \n",
       "1           0  \n",
       "2           0  \n",
       "3           1  \n",
       "4           0  "
      ]
     },
     "execution_count": 3,
     "metadata": {},
     "output_type": "execute_result"
    }
   ],
   "source": [
    "df = pd.read_csv(\"Data/data.csv\")\n",
    "df.head()"
   ]
  },
  {
   "cell_type": "markdown",
   "id": "ddd5f729",
   "metadata": {},
   "source": [
    "<a id=\"2\"></a>\n",
    "<h1 style=\"background-color:pink;font-family:newtimeroman;font-size:300%;text-align:center;border-radius: 15px 50px;\">Exploratory Data Analysis</h1>"
   ]
  },
  {
   "cell_type": "code",
   "execution_count": 4,
   "id": "8f57695b",
   "metadata": {},
   "outputs": [
    {
     "name": "stdout",
     "output_type": "stream",
     "text": [
      "There are 4238 Rows and 16 Columns\n"
     ]
    }
   ],
   "source": [
    "print(f\"There are {df.shape[0]} Rows and {df.shape[1]} Columns\")"
   ]
  },
  {
   "cell_type": "code",
   "execution_count": 5,
   "id": "91768121",
   "metadata": {},
   "outputs": [
    {
     "name": "stdout",
     "output_type": "stream",
     "text": [
      "Number of duplicates 0\n"
     ]
    }
   ],
   "source": [
    "print(f\"Number of duplicates {df.duplicated().sum()}\")"
   ]
  },
  {
   "cell_type": "code",
   "execution_count": 6,
   "id": "704bc711",
   "metadata": {},
   "outputs": [
    {
     "name": "stdout",
     "output_type": "stream",
     "text": [
      "<class 'pandas.core.frame.DataFrame'>\n",
      "RangeIndex: 4238 entries, 0 to 4237\n",
      "Data columns (total 16 columns):\n",
      " #   Column           Non-Null Count  Dtype  \n",
      "---  ------           --------------  -----  \n",
      " 0   male             4238 non-null   int64  \n",
      " 1   age              4238 non-null   int64  \n",
      " 2   education        4133 non-null   float64\n",
      " 3   currentSmoker    4238 non-null   int64  \n",
      " 4   cigsPerDay       4209 non-null   float64\n",
      " 5   BPMeds           4185 non-null   float64\n",
      " 6   prevalentStroke  4238 non-null   int64  \n",
      " 7   prevalentHyp     4238 non-null   int64  \n",
      " 8   diabetes         4238 non-null   int64  \n",
      " 9   totChol          4188 non-null   float64\n",
      " 10  sysBP            4238 non-null   float64\n",
      " 11  diaBP            4238 non-null   float64\n",
      " 12  BMI              4219 non-null   float64\n",
      " 13  heartRate        4237 non-null   float64\n",
      " 14  glucose          3850 non-null   float64\n",
      " 15  TenYearCHD       4238 non-null   int64  \n",
      "dtypes: float64(9), int64(7)\n",
      "memory usage: 529.9 KB\n"
     ]
    }
   ],
   "source": [
    "df.info()"
   ]
  },
  {
   "cell_type": "code",
   "execution_count": 7,
   "id": "29f618d0",
   "metadata": {},
   "outputs": [
    {
     "ename": "NameError",
     "evalue": "name 'data' is not defined",
     "output_type": "error",
     "traceback": [
      "\u001b[1;31m---------------------------------------------------------------------------\u001b[0m",
      "\u001b[1;31mNameError\u001b[0m                                 Traceback (most recent call last)",
      "\u001b[1;32m<ipython-input-7-2962204f287d>\u001b[0m in \u001b[0;36m<module>\u001b[1;34m\u001b[0m\n\u001b[1;32m----> 1\u001b[1;33m \u001b[0mdata\u001b[0m\u001b[1;33m.\u001b[0m\u001b[0misnull\u001b[0m\u001b[1;33m(\u001b[0m\u001b[1;33m)\u001b[0m\u001b[1;33m.\u001b[0m\u001b[0msum\u001b[0m\u001b[1;33m(\u001b[0m\u001b[1;33m)\u001b[0m\u001b[1;33m\u001b[0m\u001b[1;33m\u001b[0m\u001b[0m\n\u001b[0m",
      "\u001b[1;31mNameError\u001b[0m: name 'data' is not defined"
     ]
    }
   ],
   "source": [
    "data.isnull().sum()"
   ]
  },
  {
   "cell_type": "code",
   "execution_count": null,
   "id": "de607f78",
   "metadata": {},
   "outputs": [],
   "source": [
    "round(data.describe(include='all'),2)"
   ]
  },
  {
   "cell_type": "code",
   "execution_count": null,
   "id": "5899916c",
   "metadata": {},
   "outputs": [],
   "source": []
  },
  {
   "cell_type": "markdown",
   "id": "c7587dfd",
   "metadata": {},
   "source": [
    "### Visualization of Nullity of the Dataset"
   ]
  },
  {
   "cell_type": "code",
   "execution_count": null,
   "id": "620fb382",
   "metadata": {},
   "outputs": [],
   "source": [
    "import missingno as msno\n",
    "\n",
    "color = ['grey','grey','grey','grey','grey','grey','grey','grey','grey','grey','#fe346e','#fe346e', '#fe346e', '#fe346e', '#fe346e', '#fe346e']\n",
    "fig, ax = plt.subplots(figsize = (12,4), dpi = 70)\n",
    "fig.patch.set_facecolor('#f6f5f5')\n",
    "ax.set_facecolor('#f6f5f5')\n",
    "\n",
    "msno.bar(df, sort = 'descending', \n",
    "         color = color, \n",
    "         ax = ax, fontsize =8,\n",
    "         labels = 'off', filter = 'top')\n",
    "\n",
    "ax.text(-1,1.35,'Visualization of Nullity of The Dataset',{'font': 'serif', 'size': 24,  'color':'black'},alpha = 0.9)\n",
    "ax.text(-1,1.2,'Overall there are 4238 datapoints are present in \\nthe given dataset. some features have null values.',{'font': 'serif', 'size': 12,  'color':'black'}, alpha = 0.7)\n",
    "\n",
    "ax.set_xticklabels(ax.get_xticklabels(),rotation = 90, \n",
    "                   ha = 'center', **{'font': 'serif', 'size': 14,'weight':'normal','color':'#512b58'}, alpha = 1)\n",
    "ax.set_yticklabels('')\n",
    "ax.spines['bottom'].set_visible(True)\n",
    "\n",
    "plt.show()"
   ]
  },
  {
   "cell_type": "markdown",
   "id": "ab590380",
   "metadata": {},
   "source": [
    "**How can we deal with blanks in our data?**\n",
    "\n",
    "There are many ways. One can simply drop these records, fill the blanks with the mean, the median, or even simply the record before or after the missing value.\n",
    "\n",
    "But there are other, more unusual ways. \n",
    "\n",
    "Here We will use a **Decision Tree to predict the missing BMI**\n",
    "\n",
    "Other interesting methods to explore could include using K-Nearest-Neighbours to fill the gaps."
   ]
  },
  {
   "cell_type": "code",
   "execution_count": null,
   "id": "6a7d2821",
   "metadata": {},
   "outputs": [],
   "source": [
    "from sklearn.pipeline import Pipeline\n",
    "from sklearn.preprocessing import StandardScaler\n",
    "from sklearn.tree import DecisionTreeRegressor\n",
    "\n",
    "DT_BMI_pipe = Pipeline(steps=[ \n",
    "                               ('scale', StandardScaler()),\n",
    "                               ('lr', DecisionTreeRegressor(random_state=42))\n",
    "                              ])\n",
    "\n",
    "X = df[['age', 'male', 'BMI']].copy()\n",
    "\n",
    "Missing = X[X.BMI.isna()]\n",
    "X = X[~X.BMI.isna()]\n",
    "Y = X.pop('BMI')\n",
    "\n",
    "DT_BMI_pipe.fit(X, Y)\n",
    "predicted_BMI = pd.Series(DT_BMI_pipe.predict(Missing[['age', 'male']]), index=Missing.index)\n",
    "\n",
    "df.loc[Missing.index, 'BMI'] = predicted_BMI"
   ]
  },
  {
   "cell_type": "code",
   "execution_count": null,
   "id": "44f5ad83",
   "metadata": {},
   "outputs": [],
   "source": [
    "df.isnull().sum()"
   ]
  },
  {
   "cell_type": "markdown",
   "id": "caf76182",
   "metadata": {},
   "source": [
    "Now we imputed the null values for the BMI feature, we will consider later the missing values for the other features"
   ]
  },
  {
   "cell_type": "code",
   "execution_count": null,
   "id": "19fd11ee",
   "metadata": {},
   "outputs": [],
   "source": [
    "# let us overview the distribution of the target of our data\n",
    "x = pd.DataFrame(df.groupby(['TenYearCHD'])['TenYearCHD'].count())\n",
    "\n",
    "# Plot\n",
    "fig, ax = plt.subplots(figsize=(6, 6), dpi=70)\n",
    "ax.barh([1], x.TenYearCHD[1], height=0.7, color='#fe346e')\n",
    "plt.text(-1050, -0.08, 'Healthy', {'font': 'Serif', 'weight': 'bold', 'size': '16', 'style': 'normal', 'color': '#512b58'})\n",
    "plt.text(4000, -0.08, '84.8%', {'font': 'Serif', 'weight': 'bold', 'size': '16', 'color': '#512b58'})\n",
    "ax.barh([0], x.TenYearCHD[0], height=0.7, color='#512b58')\n",
    "plt.text(-930, 1, 'CHD', {'font': 'Serif', 'weight': 'bold', 'size': '16', 'style': 'normal', 'color': '#fe346e'})\n",
    "plt.text(900, 1, '15.2%', {'font': 'Serif', 'weight': 'bold', 'size': '16', 'color': '#fe346e'})\n",
    "\n",
    "fig.patch.set_facecolor('#f6f5f5')\n",
    "ax.set_facecolor('#f6f5f5')\n",
    "\n",
    "plt.text(-1150, 1.77, 'Percentage of People at Risk of Coronary Heart Disease (CHD)', {'font': 'Serif', 'size': '25', 'weight': 'bold', 'color': 'black'})\n",
    "plt.text(-1150, 1.55, 'Our data distribution looks highly unbalanced,\\nit is observed that 15.2% of our sample data are at risk of developing Coronary Heart Disease (CHD).',\n",
    "         {'font': 'Serif', 'size': '12.5', 'color': 'black'})\n",
    "\n",
    "ax.axes.get_xaxis().set_visible(False)\n",
    "ax.axes.get_yaxis().set_visible(False)\n",
    "ax.spines['bottom'].set_visible(False)\n",
    "ax.spines['left'].set_visible(True)\n",
    "ax.spines['right'].set_visible(False)\n",
    "ax.spines['top'].set_visible(False)\n",
    "\n",
    "plt.show()"
   ]
  },
  {
   "cell_type": "markdown",
   "id": "82c83cd0",
   "metadata": {},
   "source": [
    "<a id=\"2.1\"></a>\n",
    "<h3 style=\"background-color:pink;font-family:newtimeroman;font-size:200%;text-align:center;border-radius: 15px 50px;\">Univariate analysis of continuous variables</h3>"
   ]
  },
  {
   "cell_type": "markdown",
   "id": "3d4b6e8c",
   "metadata": {},
   "source": [
    "Since we will explore a variety of features, it is a good practice to automate the process by defining a **custom function.**\n",
    "Our function will visualize\n",
    "\n",
    "**1. the distrubtion of the feature**\n",
    "\n",
    "**2. Box plot of the feature for healthy and CHD cases**"
   ]
  },
  {
   "cell_type": "code",
   "execution_count": null,
   "id": "b3183ae8",
   "metadata": {},
   "outputs": [],
   "source": [
    "# function to automate our features distrubtion exploring process\n",
    "df['TenYearCHD_statue'] = df['TenYearCHD'].map({1: 'CHD', 0: 'Healthy'})\n",
    "def plot_distribution(df, feature, plot_title):\n",
    "    box_plots_colors = {'Healthy': '#512b58', 'CHD':'#fe346e'}\n",
    "    \n",
    "    with plt.style.context('fivethirtyeight'):\n",
    "        fig, ax = plt.subplots(1,2, figsize=(20,5))\n",
    "\n",
    "        sns.histplot(x=feature,\n",
    "                     data=df, \n",
    "                     ax=ax[0],\n",
    "                     linewidth=0.8,\n",
    "                     color='#512b58',\n",
    "                     bins=20).set_title(f\"Distribution of {plot_title}\")\n",
    "        ax[0].set_xlabel(plot_title)\n",
    "\n",
    "        sns.boxplot(x=feature,\n",
    "                    data=df,\n",
    "                    y=\"TenYearCHD_statue\",\n",
    "                    linewidth=1.5,\n",
    "                    palette=box_plots_colors,\n",
    "                    ax=ax[1]).set_title(f\"Distribution of {plot_title} by CHD\")\n",
    "        ax[1].set_xlabel(plot_title)\n",
    "        ax[1].set_ylabel('10 years CHD Status')\n",
    "\n",
    "        plt.show()"
   ]
  },
  {
   "cell_type": "code",
   "execution_count": null,
   "id": "f2b15d5e",
   "metadata": {},
   "outputs": [],
   "source": [
    "plot_distribution(df, \"age\", \"Age\")"
   ]
  },
  {
   "cell_type": "code",
   "execution_count": null,
   "id": "4f3a67f2",
   "metadata": {},
   "outputs": [],
   "source": [
    "background_color = \"#fbfbfb\"  \n",
    "# Create the figure and the grid\n",
    "fig = plt.figure(figsize=(10, 10), dpi=150, facecolor=background_color)\n",
    "gs = fig.add_gridspec(2, 1)\n",
    "gs.update(wspace=0.11, hspace=0.5)\n",
    "\n",
    "ax0 = fig.add_subplot(gs[0, 0])\n",
    "ax0.set_facecolor(background_color)\n",
    "\n",
    "# Ensure 'age' is int\n",
    "df['age'] = df['age'].astype(int)\n",
    "\n",
    "# Calculate the CHD rate by age\n",
    "rate = []\n",
    "for i in range(df['age'].min(), df['age'].max()):\n",
    "    rate.append(df[df['age'] < i]['TenYearCHD'].sum() / len(df[df['age'] < i]['TenYearCHD']))\n",
    "\n",
    "# Plot the rate\n",
    "sns.lineplot(data=rate, color='#fe346e', ax=ax0)  # Line color changed here\n",
    "\n",
    "# Remove spines\n",
    "for s in [\"top\",\"right\",\"left\"]:\n",
    "    ax0.spines[s].set_visible(False)\n",
    "\n",
    "# Adjust tick parameters\n",
    "ax0.tick_params(axis='both', which='major', labelsize=8)\n",
    "ax0.tick_params(axis=u'both', which=u'both', length=0)\n",
    "\n",
    "# Add text\n",
    "ax0.text(-2.5, 0.168, 'Risk Increase by Age', fontsize=18, fontfamily='serif', fontweight='bold')\n",
    "ax0.text(-2.5, 0.153, 'As age increases, so too does risk of developing CHD in 10 years', fontsize=12, fontfamily='serif')\n",
    "\n",
    "plt.show()"
   ]
  },
  {
   "cell_type": "code",
   "execution_count": null,
   "id": "1929226e",
   "metadata": {},
   "outputs": [],
   "source": [
    "plot_distribution(df, \"glucose\", \"Glucose\")"
   ]
  },
  {
   "cell_type": "code",
   "execution_count": null,
   "id": "78468478",
   "metadata": {},
   "outputs": [],
   "source": [
    "plot_distribution(df, \"BMI\", \"BMI\")"
   ]
  },
  {
   "cell_type": "code",
   "execution_count": null,
   "id": "6d17573c",
   "metadata": {},
   "outputs": [],
   "source": [
    "fig = plt.figure(figsize=(12, 12), dpi=150, facecolor='white')\n",
    "gs = fig.add_gridspec(4, 3)\n",
    "gs.update(wspace=0.1, hspace=0.4)\n",
    "\n",
    "plot = 0\n",
    "for row in range(0, 1):\n",
    "    for col in range(0, 3):\n",
    "        locals()[\"ax\"+str(plot)] = fig.add_subplot(gs[row, col])\n",
    "        locals()[\"ax\"+str(plot)].set_facecolor('white')\n",
    "        locals()[\"ax\"+str(plot)].tick_params(axis='y', left=False)\n",
    "        locals()[\"ax\"+str(plot)].get_yaxis().set_visible(False)\n",
    "        for s in [\"top\", \"right\", \"left\"]:\n",
    "            locals()[\"ax\"+str(plot)].spines[s].set_visible(False)\n",
    "        plot += 1\n",
    "\n",
    "plot = 0\n",
    "\n",
    "s = df[df['TenYearCHD'] == 1]\n",
    "ns = df[df['TenYearCHD'] == 0]\n",
    "\n",
    "for feature in ['age', 'glucose', 'BMI']:\n",
    "    sns.kdeplot(s[feature], ax=locals()[\"ax\"+str(plot)], color='#fe346e', shade=True, linewidth=1.5, ec='black', alpha=0.9, zorder=3, legend=False)\n",
    "    sns.kdeplot(ns[feature], ax=locals()[\"ax\"+str(plot)], color='#512b58', shade=True, linewidth=1.5, ec='black', alpha=0.9, zorder=3, legend=False)\n",
    "    locals()[\"ax\"+str(plot)].grid(which='major', axis='x', zorder=0, color='gray', linestyle=':', dashes=(1, 5))\n",
    "    plot += 1\n",
    "\n",
    "ax0.set_xlabel('Age')\n",
    "ax1.set_xlabel('Avg. Glucose Levels')\n",
    "ax2.set_xlabel('BMI')\n",
    "\n",
    "ax0.text(-20, 0.056, 'Age, Glucose and BMI by CHD & Healthy', fontsize=20, fontweight='bold', fontfamily='serif')\n",
    "ax0.text(-20, 0.05, 'Age appears to be a prominent factor; it is likely to be a salient feature in our models.',\n",
    "         fontsize=13, fontweight='light', fontfamily='serif')\n",
    "\n",
    "plt.show()"
   ]
  },
  {
   "cell_type": "code",
   "execution_count": null,
   "id": "509daa95",
   "metadata": {},
   "outputs": [],
   "source": [
    "plot_distribution(df, \"totChol\", \"Total cholesterol\")"
   ]
  },
  {
   "cell_type": "code",
   "execution_count": null,
   "id": "a0ed384d",
   "metadata": {},
   "outputs": [],
   "source": [
    "plot_distribution(df, \"sysBP\", \"Systolic Blood Pressure\")"
   ]
  },
  {
   "cell_type": "code",
   "execution_count": null,
   "id": "061f3e79",
   "metadata": {},
   "outputs": [],
   "source": [
    "plot_distribution(df, \"diaBP\", \"Diastolic Blood Pressure\")"
   ]
  },
  {
   "cell_type": "code",
   "execution_count": null,
   "id": "8c080487",
   "metadata": {},
   "outputs": [],
   "source": [
    "fig = plt.figure(figsize=(12, 12), dpi=150, facecolor='white')\n",
    "gs = fig.add_gridspec(4, 3)\n",
    "gs.update(wspace=0.1, hspace=0.4)\n",
    "\n",
    "plot = 0\n",
    "for row in range(0, 1):\n",
    "    for col in range(0, 3):\n",
    "        locals()[\"ax\"+str(plot)] = fig.add_subplot(gs[row, col])\n",
    "        locals()[\"ax\"+str(plot)].set_facecolor('white')\n",
    "        locals()[\"ax\"+str(plot)].tick_params(axis='y', left=False)\n",
    "        locals()[\"ax\"+str(plot)].get_yaxis().set_visible(False)\n",
    "        for s in [\"top\", \"right\", \"left\"]:\n",
    "            locals()[\"ax\"+str(plot)].spines[s].set_visible(False)\n",
    "        plot += 1\n",
    "\n",
    "plot = 0\n",
    "s = df[df['TenYearCHD'] == 1]\n",
    "ns = df[df['TenYearCHD'] == 0]\n",
    "\n",
    "for feature in ['totChol', 'sysBP', 'diaBP']:\n",
    "    sns.kdeplot(s[feature], ax=locals()[\"ax\"+str(plot)], color='#fe346e', shade=True, linewidth=1.5, ec='black', alpha=0.9, zorder=3, legend=False)\n",
    "    sns.kdeplot(ns[feature], ax=locals()[\"ax\"+str(plot)], color='#512b58', shade=True, linewidth=1.5, ec='black', alpha=0.9, zorder=3, legend=False)\n",
    "    locals()[\"ax\"+str(plot)].grid(which='major', axis='x', zorder=0, color='gray', linestyle=':', dashes=(1, 5))\n",
    "    plot += 1\n",
    "\n",
    "ax0.set_xlabel('Total Cholesterol')\n",
    "ax1.set_xlabel('Systolic Blood Pressure')\n",
    "ax2.set_xlabel('Diastolic Blood Pressure')\n",
    "\n",
    "ax0.text(-100, 0.012, 'Cholesterol and Blood pressure by CHD & Healthy', fontsize=20, fontweight='bold', fontfamily='serif')\n",
    "ax0.text(-100, 0.0105, 'Total cholesterol and blood pressure levels are likely to be salient features in our models.', fontsize=13, fontweight='light', fontfamily='serif')\n",
    "\n",
    "plt.show()"
   ]
  },
  {
   "cell_type": "code",
   "execution_count": null,
   "id": "46151dce",
   "metadata": {},
   "outputs": [],
   "source": [
    "plot_distribution(df, \"heartRate\", \"Heart Rate\")"
   ]
  },
  {
   "cell_type": "code",
   "execution_count": null,
   "id": "7c883ad4",
   "metadata": {},
   "outputs": [],
   "source": [
    "plot_distribution(df, \"cigsPerDay\", \"Number of cigarettes per day\")"
   ]
  },
  {
   "cell_type": "markdown",
   "id": "b813df88",
   "metadata": {},
   "source": [
    "<a id=\"2.2\"></a>\n",
    "<h3 style=\"background-color:pink;font-family:newtimeroman;font-size:200%;text-align:center;border-radius: 15px 50px;\">Univariate analysis of discrete variables</h3>"
   ]
  },
  {
   "cell_type": "markdown",
   "id": "f418448f",
   "metadata": {},
   "source": [
    "#### Let's have an overall look of the distrubtion of the discrete values"
   ]
  },
  {
   "cell_type": "code",
   "execution_count": null,
   "id": "f01f0318",
   "metadata": {},
   "outputs": [],
   "source": [
    "plt.style.use('fivethirtyeight')\n",
    "custom_palette = {'Healthy': '#512b58', 'CHD': '#fe346e'}\n",
    "\n",
    "fig, axes = plt.subplots(4, 2, figsize=(20, 25))\n",
    "\n",
    "features = ['male', 'education', 'currentSmoker', 'BPMeds', 'prevalentStroke', 'prevalentHyp', 'diabetes', 'TenYearCHD_statue']\n",
    "titles = ['Gender', 'Education', 'Current Smoker', 'BPMeds', 'Prevalent Stroke', 'Prevalent Hyp', 'Diabetes', 'Ten Year CHD']\n",
    "\n",
    "for i, (feature, title) in enumerate(zip(features, titles)):\n",
    "    ax = axes[i // 2, i % 2]\n",
    "    ax.set_title(title)\n",
    "    sns.countplot(x=df[feature], hue=df['TenYearCHD_statue'], dodge=False, palette=custom_palette, ax=ax)\n",
    "\n",
    "plt.tight_layout()\n",
    "plt.show()"
   ]
  },
  {
   "cell_type": "markdown",
   "id": "f500ca60",
   "metadata": {},
   "source": [
    "Since we will explore a variety of features, it is a good practice to automate the process by defining a **custom function.**\n",
    "Our function will visualize **2 pie charts categorized by CHD or healthy (one for the existance of the feature and other for not )**"
   ]
  },
  {
   "cell_type": "code",
   "execution_count": null,
   "id": "4dc7afd0",
   "metadata": {},
   "outputs": [],
   "source": [
    "def plot_CHD_percentage(df, group_feature, plot_title):\n",
    "    # Calculate percentage of people who developed CHD for each group\n",
    "    grouped = df.groupby(group_feature)['TenYearCHD'].value_counts(normalize=True).rename('percentage').mul(100).reset_index()\n",
    "\n",
    "    # Define custom color palette\n",
    "    custom_palette = {0: '#512b58', 1:'#fe346e'}\n",
    "    # Define custom x-axis labels\n",
    "    x_labels = {0: f'Non-{group_feature.capitalize()}', 1: group_feature.capitalize()}\n",
    "    # Define custom legend labels\n",
    "    legend_labels = {0: 'Healthy', 1: 'CHD'}\n",
    "\n",
    "    with plt.style.context('fivethirtyeight'):\n",
    "        fig, ax = plt.subplots(1,2, figsize=(15,6))\n",
    "\n",
    "        for i, group_status in enumerate(grouped[group_feature].unique()):\n",
    "            data = grouped[grouped[group_feature] == group_status]\n",
    "            wedges, texts, autotexts = ax[i].pie(data['percentage'], labels=[legend_labels[status] for status in data['TenYearCHD']],\n",
    "                                                 colors=[custom_palette[status] for status in data['TenYearCHD']],\n",
    "                                                 autopct='%1.1f%%')\n",
    "            ax[i].set_title(x_labels[group_status])\n",
    "            plt.setp(autotexts, size=16, color=\"w\")\n",
    "        fig.legend(wedges, legend_labels.values(), title=\"Ten Year CHD\", loc=\"center right\")\n",
    "        \n",
    "        fig.suptitle(f'Percentage of people who developed CHD within 10 years grouped by {plot_title}', fontsize=18)\n",
    "        plt.show()"
   ]
  },
  {
   "cell_type": "code",
   "execution_count": null,
   "id": "3829d8ca",
   "metadata": {},
   "outputs": [],
   "source": [
    "plot_CHD_percentage(df, 'male', 'Gender Status')"
   ]
  },
  {
   "cell_type": "code",
   "execution_count": null,
   "id": "e1f7185c",
   "metadata": {},
   "outputs": [],
   "source": [
    "plot_CHD_percentage(df, 'currentSmoker', 'Current Smoker Status')"
   ]
  },
  {
   "cell_type": "code",
   "execution_count": null,
   "id": "b0bcde8a",
   "metadata": {},
   "outputs": [],
   "source": [
    "plot_CHD_percentage(df, 'diabetes', 'Diabetes Status')"
   ]
  },
  {
   "cell_type": "code",
   "execution_count": null,
   "id": "5c085058",
   "metadata": {},
   "outputs": [],
   "source": [
    "plot_CHD_percentage(df, 'BPMeds', 'BPMeds Statues')"
   ]
  },
  {
   "cell_type": "code",
   "execution_count": null,
   "id": "dc6e61cb",
   "metadata": {},
   "outputs": [],
   "source": [
    "plot_CHD_percentage(df, 'prevalentStroke', 'prevalentStroke Status')"
   ]
  },
  {
   "cell_type": "code",
   "execution_count": null,
   "id": "2754ac49",
   "metadata": {},
   "outputs": [],
   "source": [
    "plot_CHD_percentage(df, 'prevalentHyp', 'prevalentHyp Status')"
   ]
  },
  {
   "cell_type": "markdown",
   "id": "84600252",
   "metadata": {},
   "source": [
    "#### Let's have an overall look of the Correlation between all of our features"
   ]
  },
  {
   "cell_type": "code",
   "execution_count": null,
   "id": "0a6649cf",
   "metadata": {},
   "outputs": [],
   "source": [
    "df.corr()"
   ]
  },
  {
   "cell_type": "code",
   "execution_count": null,
   "id": "f0b605ad-520a-40d6-864b-903a8a635eb1",
   "metadata": {},
   "outputs": [],
   "source": [
    "import numpy as np\n",
    "import pandas as pd\n",
    "import matplotlib\n",
    "import matplotlib.pyplot as plt\n",
    "import seaborn as sns\n",
    "import plotly.express as px\n",
    "import plotly.graph_objs as go"
   ]
  },
  {
   "cell_type": "code",
   "execution_count": null,
   "id": "5b81be91-00f1-4d6b-9d06-1b79b0772ec2",
   "metadata": {},
   "outputs": [],
   "source": [
    "target = 'target'\n",
    "data = pd.read_csv('Data/data_v1.csv')\n",
    "data = data.drop('Unnamed: 0',axis=1)\n",
    "data.head()"
   ]
  },
  {
   "cell_type": "code",
   "execution_count": null,
   "id": "bd7ce948-106b-4a5e-a778-4e815d03c409",
   "metadata": {},
   "outputs": [],
   "source": [
    "data[data[target] == 1].isnull().sum()"
   ]
  },
  {
   "cell_type": "code",
   "execution_count": null,
   "id": "86a72b2b-e7cd-41df-82dc-c223a8d1c663",
   "metadata": {},
   "outputs": [],
   "source": [
    "round(data[data[target] == 0].isnull().sum() / len(data[data[target] == 0]), 2 )"
   ]
  },
  {
   "cell_type": "code",
   "execution_count": null,
   "id": "9388ea55",
   "metadata": {},
   "outputs": [],
   "source": [
    "data.columns"
   ]
  },
  {
   "cell_type": "code",
   "execution_count": null,
   "id": "12c8989f-134d-47c7-9c74-9677e5de6ad8",
   "metadata": {},
   "outputs": [],
   "source": [
    "import matplotlib.pyplot as plt\n",
    "\n",
    "plt.style.use(\"ggplot\")\n",
    "\n",
    "def pie_plot_count(col,title=\"\"):\n",
    "    fig,ax = plt.subplots(1,2,figsize=(14,6))\n",
    "    plt.subplot(1,2,1)\n",
    "    plt.pie(x=data[col].value_counts(),labels=data[col].value_counts().index,\n",
    "           autopct='%1.1f%%',labeldistance=0.7,explode=[0.05] * len(data[col].value_counts().values))\n",
    "    plt.title(title)\n",
    "    plt.subplot(1,2,2)\n",
    "    sns.countplot(data=data,x=col)\n",
    "    plt.show() \n",
    "    \n",
    "def multi_count_plot(col1,col2):\n",
    "    plt.figure(figsize=(8,4))\n",
    "    sns.countplot(data=data,x=col1,hue=col2)\n",
    "    plt.show()\n",
    "\n",
    "def col_vs_target(col,rows, cols, title=\"\"):\n",
    "    axis, figure = plt.subplots(rows,cols,figsize=(14  ,5 * rows))\n",
    "    index = 1\n",
    "    plt.suptitle(title)\n",
    "    for value in data[col].unique():\n",
    "        if index > data[col].nunique():\n",
    "            break\n",
    "        plt.subplot(rows,cols,index)\n",
    "        custom_data = data[data[col] == value]\n",
    "        plt.title(value)\n",
    "        plt.pie(x=custom_data[target].value_counts(),labels=custom_data[target].value_counts().index,\n",
    "           autopct='%1.1f%%',labeldistance=0.7,explode=[0.05] * len(custom_data[target].value_counts().values))\n",
    "        index +=1\n",
    "    plt.show()\n",
    "def kde_plot(col):\n",
    "    plt.figure(figsize=(10,6))\n",
    "    sns.kdeplot(data=data[col],shade=True)\n",
    "    plt.show()\n",
    "    \n",
    "def kde_with_target(col):\n",
    "    plt.figure(figsize=(10,6))\n",
    "    plot1 = sns.kdeplot(data=data[data[target] == 1][col],shade=True, label=\"With CHD\")\n",
    "    plot2 = sns.kdeplot(data=data[data[target] == 0][col],shade=True, label=\"Without CHD\")\n",
    "    plt.suptitle(f\"The distribution of {col} for people with CHD and withOut CHd\")\n",
    "    plt.legend()\n",
    "    plt.show()"
   ]
  },
  {
   "cell_type": "code",
   "execution_count": null,
   "id": "9bff4da8",
   "metadata": {},
   "outputs": [],
   "source": [
    "def col_details(col_name):\n",
    "    \n",
    "    print(f\"####### {col_name} and its type {data[col_name].dtype} ########\")\n",
    "    \n",
    "    print(f\"\\nNumber of unique Values {data[col_name].nunique()}\")\n",
    "    \n",
    "    print(f\"There are {data[col_name].isnull().sum()} Null Values\")\n",
    "    random_number = np.random.randint(4000)\n",
    "    print(f\"\\nSome Random Data \\n {data[col_name][random_number:random_number + 5]}\")\n",
    "    print(f\"\\nTop 5 Values {data[col_name].value_counts().index[:5]}\")\n",
    "    if data[col_name].dtype != \"object\":\n",
    "        print(f\"Max value is {data[col_name].max()} Min {data[col_name].min()}\")\n",
    "    \n",
    "    \n",
    "def IQR_bands(col):\n",
    "    Q1 = data[col].quantile(0.25)\n",
    "    Q3 = data[col].quantile(0.75)\n",
    "    IQR = Q3 - Q1\n",
    "    upper_band = Q3 + IQR * 1.5\n",
    "    lower_band = Q1 - IQR * 1.5\n",
    "    return upper_band , lower_band"
   ]
  },
  {
   "cell_type": "code",
   "execution_count": null,
   "id": "ede59228-6c60-47b7-897c-76813f4686a7",
   "metadata": {},
   "outputs": [],
   "source": [
    "# # male , female >> 1- Pie plot \n",
    "#                    2 - Count >"
   ]
  },
  {
   "cell_type": "code",
   "execution_count": null,
   "id": "da39839c",
   "metadata": {},
   "outputs": [],
   "source": [
    "col_details(\"gender\")"
   ]
  },
  {
   "cell_type": "code",
   "execution_count": null,
   "id": "47810949-3f63-45ea-960c-109a5530b597",
   "metadata": {},
   "outputs": [],
   "source": [
    "pie_plot_count(\"gender\")"
   ]
  },
  {
   "cell_type": "code",
   "execution_count": null,
   "id": "cfcee304-1813-487b-aea7-abfac1209f7a",
   "metadata": {},
   "outputs": [],
   "source": [
    "col_vs_target(\"gender\",1,2, \"Precentage of CHD in term of gender\")"
   ]
  },
  {
   "cell_type": "markdown",
   "id": "cfe80753-2577-4bd4-aecb-481be52ad4ca",
   "metadata": {},
   "source": [
    "Numerical > 1 - Distribuation : 2 - Kde\n",
    "                                2- Histogram"
   ]
  },
  {
   "cell_type": "markdown",
   "id": "7a03c491-8837-46ae-ac60-865a63f79f26",
   "metadata": {},
   "source": [
    "### Age"
   ]
  },
  {
   "cell_type": "code",
   "execution_count": null,
   "id": "350a1162-abbc-4c27-90ca-a8a243affe1e",
   "metadata": {},
   "outputs": [],
   "source": [
    "col_details(\"age\")"
   ]
  },
  {
   "cell_type": "code",
   "execution_count": null,
   "id": "1238dc92-7d72-4fd8-a2d7-838d8fc703e0",
   "metadata": {},
   "outputs": [],
   "source": [
    "kde_plot(\"age\")"
   ]
  },
  {
   "cell_type": "code",
   "execution_count": null,
   "id": "b87e29a5-e7e0-46cb-8c80-d0c8317d48c9",
   "metadata": {},
   "outputs": [],
   "source": [
    "kde_with_target(\"age\")"
   ]
  },
  {
   "cell_type": "code",
   "execution_count": null,
   "id": "281055bd-9c06-44b9-8ac6-6162bd4ff7c9",
   "metadata": {},
   "outputs": [],
   "source": [
    "print(\"the mean of Age of people with chd is \",data[data[target] == 1]['age'].median())"
   ]
  },
  {
   "cell_type": "code",
   "execution_count": null,
   "id": "31bb2c85-f968-479e-9ba7-e3c8756b5c3e",
   "metadata": {},
   "outputs": [],
   "source": [
    "print(\"the mean of Age of people without chd is \",data[data[target] == 0]['age'].median())"
   ]
  },
  {
   "cell_type": "markdown",
   "id": "b2afd3b0-2645-48a1-a0f7-bc389628aff4",
   "metadata": {},
   "source": [
    "### Education"
   ]
  },
  {
   "cell_type": "code",
   "execution_count": null,
   "id": "d481f962-0afd-4a5d-b478-b20e37223738",
   "metadata": {},
   "outputs": [],
   "source": [
    "col_details(\"education\")"
   ]
  },
  {
   "cell_type": "code",
   "execution_count": null,
   "id": "4c0db52f-2d02-400c-9d47-876201645d9a",
   "metadata": {},
   "outputs": [],
   "source": [
    "data['education'].mode()[0]"
   ]
  },
  {
   "cell_type": "code",
   "execution_count": null,
   "id": "357a8762-0ac9-4f63-a1c0-eca198ebf241",
   "metadata": {},
   "outputs": [],
   "source": [
    "print(f\"The percentage of Null Values is {round(len(data[data.education == 'nan']) / len(data) * 100, 2)} %\")"
   ]
  },
  {
   "cell_type": "code",
   "execution_count": null,
   "id": "c8d8b7f1-04e9-4039-8d49-50d6107d2c5a",
   "metadata": {},
   "outputs": [],
   "source": [
    "data.loc[data.education.isnull(),'education'] = data['education'].mode()[0]"
   ]
  },
  {
   "cell_type": "code",
   "execution_count": null,
   "id": "e953e618-ed85-4c78-af83-d10b89eb3ca7",
   "metadata": {},
   "outputs": [],
   "source": [
    "print(f\"The percentage of Null Values is {round(len(data[data.education.isnull()]) / len(data) * 100, 2)} %\")"
   ]
  },
  {
   "cell_type": "code",
   "execution_count": null,
   "id": "5ea5d37e-1b4d-4225-a925-9c0136a31c5f",
   "metadata": {},
   "outputs": [],
   "source": [
    "# df.loc[condition, column] \n",
    "data.loc[data.education.isnull(),'education']"
   ]
  },
  {
   "cell_type": "code",
   "execution_count": null,
   "id": "db46149a-d0b2-4881-9b0a-97cc28ab665c",
   "metadata": {},
   "outputs": [],
   "source": [
    "pie_plot_count(\"education\")"
   ]
  },
  {
   "cell_type": "code",
   "execution_count": null,
   "id": "f27a7240-d90d-4b24-8267-097a340e47d2",
   "metadata": {},
   "outputs": [],
   "source": [
    "col_vs_target(\"education\",2,2, \"Precentage of CHD in term of education\")"
   ]
  },
  {
   "cell_type": "code",
   "execution_count": null,
   "id": "689eeea1-cc94-4aa2-b327-effbe130bd5b",
   "metadata": {},
   "outputs": [],
   "source": [
    "data.columns"
   ]
  },
  {
   "cell_type": "markdown",
   "id": "5cedd89c-c786-4ae4-84a7-c16883c56159",
   "metadata": {},
   "source": [
    "### currentSmoker"
   ]
  },
  {
   "cell_type": "code",
   "execution_count": null,
   "id": "a42a2d33-13d2-4040-8878-650dd51f0055",
   "metadata": {},
   "outputs": [],
   "source": [
    "col_details('currentSmoker')"
   ]
  },
  {
   "cell_type": "code",
   "execution_count": null,
   "id": "0d2b5a56-05e4-4278-9445-a063744a7e97",
   "metadata": {},
   "outputs": [],
   "source": [
    "pie_plot_count('currentSmoker')"
   ]
  },
  {
   "cell_type": "code",
   "execution_count": null,
   "id": "0a044265-f77a-4c1d-87ed-8cb81e7356d4",
   "metadata": {},
   "outputs": [],
   "source": [
    "col_vs_target(\"currentSmoker\",1,2, \"Precentage of CHD in term of currentSmoker\")"
   ]
  },
  {
   "cell_type": "markdown",
   "id": "2e946d58-88e7-44e7-bcc4-8d9db5e92085",
   "metadata": {},
   "source": [
    "### cigsPerDay"
   ]
  },
  {
   "cell_type": "code",
   "execution_count": null,
   "id": "56a8c98f-de8b-4456-9ed8-6ec8214987d1",
   "metadata": {},
   "outputs": [],
   "source": [
    "col_details(\"cigsPerDay\")"
   ]
  },
  {
   "cell_type": "code",
   "execution_count": null,
   "id": "647bedae-486f-4e45-a0e6-036476ed492f",
   "metadata": {},
   "outputs": [],
   "source": [
    "print(data.cigsPerDay.isnull().sum() / len(data))"
   ]
  },
  {
   "cell_type": "code",
   "execution_count": null,
   "id": "921953c4-ae0e-4130-b921-3e19b69ade74",
   "metadata": {},
   "outputs": [],
   "source": [
    "data['cigsPerDay'].median()"
   ]
  },
  {
   "cell_type": "code",
   "execution_count": null,
   "id": "a1bd7aa5-0fb9-4a36-a6b8-2fe08571b7e2",
   "metadata": {},
   "outputs": [],
   "source": [
    "# data.cigsPerDay.value_counts()"
   ]
  },
  {
   "cell_type": "code",
   "execution_count": null,
   "id": "79945b6a-9af8-4f2a-b2a9-7dd1662ac4d8",
   "metadata": {},
   "outputs": [],
   "source": [
    "data.loc[data.cigsPerDay.isnull(), 'cigsPerDay'] = data['cigsPerDay'].median()"
   ]
  },
  {
   "cell_type": "code",
   "execution_count": null,
   "id": "c75ba173-b5a9-4746-a1e6-28348a35ac01",
   "metadata": {},
   "outputs": [],
   "source": [
    "print(data.cigsPerDay.isnull().sum() / len(data))"
   ]
  },
  {
   "cell_type": "code",
   "execution_count": null,
   "id": "25eb5264-d6a1-4306-9d41-90e162838e2b",
   "metadata": {},
   "outputs": [],
   "source": [
    "kde_plot(\"cigsPerDay\")"
   ]
  },
  {
   "cell_type": "code",
   "execution_count": null,
   "id": "4a0b3b4a-1441-40f0-91b0-bf8357b63165",
   "metadata": {},
   "outputs": [],
   "source": [
    "kde_with_target(\"cigsPerDay\")"
   ]
  },
  {
   "cell_type": "code",
   "execution_count": null,
   "id": "00dafcc1-f91b-4840-ae9d-79080ba9bce5",
   "metadata": {},
   "outputs": [],
   "source": [
    "print(\"the mean of cigsPerDay of people with chd is \",data[data[target] == 1]['cigsPerDay'].mean())"
   ]
  },
  {
   "cell_type": "code",
   "execution_count": null,
   "id": "d8dad334-63d9-4ae0-832b-f36ce5fac97d",
   "metadata": {},
   "outputs": [],
   "source": [
    "print(\"the mean of cigsPerDay of people with chd is \",data[data[target] == 0]['cigsPerDay'].mean())"
   ]
  },
  {
   "cell_type": "code",
   "execution_count": null,
   "id": "ce2d62b3-0f3c-423b-a520-46cfeacd0e32",
   "metadata": {},
   "outputs": [],
   "source": [
    "data[\"cigsPerDay\"].plot(kind=\"box\")"
   ]
  },
  {
   "cell_type": "code",
   "execution_count": null,
   "id": "3e777e4b-fb13-4c31-9be0-227c5c0d5fef",
   "metadata": {},
   "outputs": [],
   "source": [
    "IQR_bands(\"cigsPerDay\")"
   ]
  },
  {
   "cell_type": "code",
   "execution_count": null,
   "id": "e20d113a-e3f2-49e2-b624-40f748bfdd6c",
   "metadata": {},
   "outputs": [],
   "source": [
    "data[data['cigsPerDay'] > 50]"
   ]
  },
  {
   "cell_type": "code",
   "execution_count": null,
   "id": "a291878d-c3b8-408c-864e-ba7e2d5ab344",
   "metadata": {},
   "outputs": [],
   "source": [
    "print(len(data[data['cigsPerDay'] > 50]))"
   ]
  },
  {
   "cell_type": "code",
   "execution_count": null,
   "id": "9c759114-252d-420f-a245-3eb2424c5749",
   "metadata": {},
   "outputs": [],
   "source": []
  },
  {
   "cell_type": "markdown",
   "id": "4fd1522b-39d9-4526-866b-068dc68ac8b9",
   "metadata": {},
   "source": [
    "### BPMeds\n",
    "whether or not the patient was on blood pressure medication"
   ]
  },
  {
   "cell_type": "code",
   "execution_count": null,
   "id": "ff7e7e4b-097f-4e6f-8232-85200a9dbb46",
   "metadata": {},
   "outputs": [],
   "source": [
    "col_details(\"BPMeds\")"
   ]
  },
  {
   "cell_type": "code",
   "execution_count": null,
   "id": "8cc7d1db-d6ff-4ba0-b604-5457fd6ba195",
   "metadata": {},
   "outputs": [],
   "source": [
    "data['BPMeds'].isnull().sum() / len(data)"
   ]
  },
  {
   "cell_type": "code",
   "execution_count": null,
   "id": "23e07bf1-a531-4d5b-92de-dcb35f97a74b",
   "metadata": {},
   "outputs": [],
   "source": [
    "data.loc[data.BPMeds.isnull() ,'BPMeds'] = data['BPMeds'].mode()[0]"
   ]
  },
  {
   "cell_type": "code",
   "execution_count": null,
   "id": "cb610ede-ca5b-4d71-8dc4-071ebf0a0a65",
   "metadata": {},
   "outputs": [],
   "source": [
    "data['BPMeds'].isnull().sum() / len(data)"
   ]
  },
  {
   "cell_type": "code",
   "execution_count": null,
   "id": "e1ab4cd2-4178-4b79-bb72-f79dbd48d769",
   "metadata": {},
   "outputs": [],
   "source": []
  },
  {
   "cell_type": "code",
   "execution_count": null,
   "id": "b5c0e330-23c1-4e73-938a-f581ae12663e",
   "metadata": {},
   "outputs": [],
   "source": [
    "data.columns"
   ]
  },
  {
   "cell_type": "markdown",
   "id": "ccce82ae-0169-466f-9dd2-4206796e8dce",
   "metadata": {},
   "source": [
    "### prevalentStroke\n",
    "whether or not the patient had previously had a stroke"
   ]
  },
  {
   "cell_type": "code",
   "execution_count": null,
   "id": "d47581ab-4313-4eb0-bc67-bd723c917c93",
   "metadata": {},
   "outputs": [],
   "source": [
    "col_details(\"prevalentStroke\")"
   ]
  },
  {
   "cell_type": "code",
   "execution_count": null,
   "id": "2c8f23c6-1c6c-4033-bf93-f6ff4af1892c",
   "metadata": {},
   "outputs": [],
   "source": [
    "pie_plot_count(\"prevalentStroke\")"
   ]
  },
  {
   "cell_type": "code",
   "execution_count": null,
   "id": "a1017c51-4b39-468f-815f-828cf6d7aef3",
   "metadata": {},
   "outputs": [],
   "source": [
    "data[data.prevalentStroke == 1][target].value_counts()"
   ]
  },
  {
   "cell_type": "markdown",
   "id": "d92c5cb5-ab9d-4601-a19c-f829edfad6ac",
   "metadata": {},
   "source": [
    "### prevalentHyp\n",
    "whether or not the patient was hypertensive"
   ]
  },
  {
   "cell_type": "code",
   "execution_count": null,
   "id": "067d88d5-aa4f-4544-bb8c-36985f1beca9",
   "metadata": {},
   "outputs": [],
   "source": [
    "col_details('prevalentHyp')"
   ]
  },
  {
   "cell_type": "code",
   "execution_count": null,
   "id": "7c23cd68-5a4c-4578-83ac-0702a84222f7",
   "metadata": {},
   "outputs": [],
   "source": [
    "pie_plot_count('prevalentHyp')"
   ]
  },
  {
   "cell_type": "code",
   "execution_count": null,
   "id": "198b240f-724a-44e2-a7f1-d350f0d95888",
   "metadata": {},
   "outputs": [],
   "source": [
    "col_vs_target(\"prevalentHyp\",1,2, \"Precentage of CHD in term of prevalentHyp\")"
   ]
  },
  {
   "cell_type": "markdown",
   "id": "ba566ed2-9734-40cd-ba4d-78362b7f3dac",
   "metadata": {},
   "source": [
    "### Diabetes"
   ]
  },
  {
   "cell_type": "code",
   "execution_count": null,
   "id": "1fe3dead-2b52-4a56-8d39-e167f0afcc33",
   "metadata": {},
   "outputs": [],
   "source": [
    "col_details(\"diabetes\")"
   ]
  },
  {
   "cell_type": "code",
   "execution_count": null,
   "id": "fe894246-4a12-4801-8360-0fa15e235178",
   "metadata": {},
   "outputs": [],
   "source": [
    "pie_plot_count(\"diabetes\")"
   ]
  },
  {
   "cell_type": "code",
   "execution_count": null,
   "id": "d146c5a0-90b7-458e-9a3a-bb49923676d6",
   "metadata": {},
   "outputs": [],
   "source": [
    "col_vs_target(\"diabetes\",1,2, \"Precentage of CHD in term of diabetes\")"
   ]
  },
  {
   "cell_type": "code",
   "execution_count": null,
   "id": "68c398b5-f071-4cb3-ab3e-ce5b87045053",
   "metadata": {},
   "outputs": [],
   "source": [
    "data.columns"
   ]
  },
  {
   "cell_type": "markdown",
   "id": "0a2e4337-355e-47af-aab4-f3f927af5cbc",
   "metadata": {},
   "source": [
    "### totChol\n",
    "total cholesterol level"
   ]
  },
  {
   "cell_type": "code",
   "execution_count": null,
   "id": "8b49dcaf-3f63-49c4-9368-fed773aa5275",
   "metadata": {},
   "outputs": [],
   "source": [
    "col_details('totChol')"
   ]
  },
  {
   "cell_type": "code",
   "execution_count": null,
   "id": "7cc2ecf0-04a6-4dbf-b83f-b246ffa6730c",
   "metadata": {},
   "outputs": [],
   "source": [
    "print(data.totChol.isnull().sum() / len(data))"
   ]
  },
  {
   "cell_type": "code",
   "execution_count": null,
   "id": "5ee69d06-d4bf-4b07-9e04-e2d446665158",
   "metadata": {},
   "outputs": [],
   "source": [
    "data['totChol'].median()"
   ]
  },
  {
   "cell_type": "code",
   "execution_count": null,
   "id": "9166b5d9-b76d-4700-9244-0ff1c97b12a7",
   "metadata": {},
   "outputs": [],
   "source": [
    "data.loc[data.totChol.isnull(), 'totChol'] = data['totChol'].median()"
   ]
  },
  {
   "cell_type": "code",
   "execution_count": null,
   "id": "359126b6-1fbf-4296-886e-7c7931d85c96",
   "metadata": {},
   "outputs": [],
   "source": [
    "kde_plot(\"totChol\")"
   ]
  },
  {
   "cell_type": "code",
   "execution_count": null,
   "id": "34f88d2c-008f-4dc7-b8da-ec687955e74f",
   "metadata": {},
   "outputs": [],
   "source": [
    "kde_with_target(\"totChol\")"
   ]
  },
  {
   "cell_type": "code",
   "execution_count": null,
   "id": "189a3e4c-6b87-45c9-b8fe-f2e55456934b",
   "metadata": {},
   "outputs": [],
   "source": [
    "IQR_bands(\"totChol\")"
   ]
  },
  {
   "cell_type": "markdown",
   "id": "ddd78993-0e14-4e89-b1f8-6b7cb34479d2",
   "metadata": {},
   "source": [
    "### sysBP"
   ]
  },
  {
   "cell_type": "code",
   "execution_count": null,
   "id": "e021e525-936f-4921-98cd-25f88b8584b4",
   "metadata": {},
   "outputs": [],
   "source": [
    "col_details(\"sysBP\")"
   ]
  },
  {
   "cell_type": "code",
   "execution_count": null,
   "id": "3d28fd95-1c54-43bb-8724-28b42f835b51",
   "metadata": {},
   "outputs": [],
   "source": [
    "kde_plot(\"sysBP\")"
   ]
  },
  {
   "cell_type": "code",
   "execution_count": null,
   "id": "3986d42c-49ab-4261-85c8-2d911c7e02b1",
   "metadata": {},
   "outputs": [],
   "source": [
    "kde_with_target(\"sysBP\")"
   ]
  },
  {
   "cell_type": "code",
   "execution_count": null,
   "id": "4aa7ca47-79d3-482d-8a30-328857cb004f",
   "metadata": {},
   "outputs": [],
   "source": [
    "IQR_bands(\"sysBP\")"
   ]
  },
  {
   "cell_type": "markdown",
   "id": "d2b25ef5-cbe1-418b-9cfb-423ac133d206",
   "metadata": {},
   "source": [
    "### diaBP\n",
    "diastolic blood pressure"
   ]
  },
  {
   "cell_type": "code",
   "execution_count": null,
   "id": "e97f548e-9b66-43b7-a911-ec2f131c954c",
   "metadata": {},
   "outputs": [],
   "source": [
    "col_details(\"diaBP\")"
   ]
  },
  {
   "cell_type": "code",
   "execution_count": null,
   "id": "64f1baae-a2d5-443e-953e-c2bd2683b7e7",
   "metadata": {},
   "outputs": [],
   "source": [
    "kde_plot(\"diaBP\")"
   ]
  },
  {
   "cell_type": "code",
   "execution_count": null,
   "id": "8eb4ef5c-0729-4a2c-9ac8-baea6a30f75b",
   "metadata": {},
   "outputs": [],
   "source": [
    "kde_with_target(\"diaBP\")"
   ]
  },
  {
   "cell_type": "code",
   "execution_count": null,
   "id": "d0b47d80-f271-46df-bd4c-40b51fba8201",
   "metadata": {},
   "outputs": [],
   "source": [
    "IQR_bands(\"diaBP\")"
   ]
  },
  {
   "cell_type": "markdown",
   "id": "2ace28ef-b43e-46e9-beaf-5f28c72971f4",
   "metadata": {},
   "source": [
    "### Body Mass Index , BMI"
   ]
  },
  {
   "cell_type": "code",
   "execution_count": null,
   "id": "c452907e-29e5-4882-9f4d-a7d69fe313bc",
   "metadata": {},
   "outputs": [],
   "source": [
    "col_details(\"BMI\")"
   ]
  },
  {
   "cell_type": "code",
   "execution_count": null,
   "id": "39c92abe-f509-42f0-9df5-a373e3041df8",
   "metadata": {},
   "outputs": [],
   "source": [
    "data.loc[data.BMI.isnull(),'BMI'] = data.BMI.median()"
   ]
  },
  {
   "cell_type": "code",
   "execution_count": null,
   "id": "f7e1119a-3363-4031-8c4d-e5d550abd7a5",
   "metadata": {},
   "outputs": [],
   "source": [
    "len(data.loc[data.BMI.isnull(),'BMI'])"
   ]
  },
  {
   "cell_type": "code",
   "execution_count": null,
   "id": "71df0bd8-ad13-4bfb-ae98-d94e66ca30fe",
   "metadata": {},
   "outputs": [],
   "source": [
    "kde_plot(\"BMI\")"
   ]
  },
  {
   "cell_type": "code",
   "execution_count": null,
   "id": "166fa066-1733-4890-a5b9-98780a83e8ce",
   "metadata": {},
   "outputs": [],
   "source": [
    "kde_with_target(\"BMI\")"
   ]
  },
  {
   "cell_type": "code",
   "execution_count": null,
   "id": "964204f9-ae48-4ad5-90b5-abd607a306af",
   "metadata": {},
   "outputs": [],
   "source": [
    "IQR_bands(\"BMI\")"
   ]
  },
  {
   "cell_type": "code",
   "execution_count": null,
   "id": "7a47a042-112b-480e-86b5-b7bace3dd585",
   "metadata": {},
   "outputs": [],
   "source": [
    "data.columns"
   ]
  },
  {
   "cell_type": "markdown",
   "id": "c7dd6b77-a28f-4152-99de-423952ef5e1b",
   "metadata": {},
   "source": [
    "### heartRate"
   ]
  },
  {
   "cell_type": "code",
   "execution_count": null,
   "id": "4057c8c3-73c0-4587-8055-ad1874665844",
   "metadata": {},
   "outputs": [],
   "source": [
    "col_details(\"heartRate\")"
   ]
  },
  {
   "cell_type": "code",
   "execution_count": null,
   "id": "a2fac638-425e-4210-ab0e-c4b3c95bd5c0",
   "metadata": {},
   "outputs": [],
   "source": [
    "data.loc[data.heartRate.isnull(),'heartRate'] = data.heartRate.median()"
   ]
  },
  {
   "cell_type": "code",
   "execution_count": null,
   "id": "e2065b61-d616-41ac-9595-71c0068ec4cb",
   "metadata": {},
   "outputs": [],
   "source": [
    "len(data.loc[data.heartRate.isnull(),'heartRate'])"
   ]
  },
  {
   "cell_type": "code",
   "execution_count": null,
   "id": "76f25c99-6a13-4ce8-849a-bd83dc03068d",
   "metadata": {},
   "outputs": [],
   "source": [
    "kde_plot(\"heartRate\")"
   ]
  },
  {
   "cell_type": "code",
   "execution_count": null,
   "id": "d547c295-0e76-4635-a2e5-4e1694f8bf6d",
   "metadata": {},
   "outputs": [],
   "source": [
    "kde_with_target(\"heartRate\")"
   ]
  },
  {
   "cell_type": "markdown",
   "id": "2221b7a1-4164-4a09-a39c-a110d865ffb2",
   "metadata": {},
   "source": [
    "### this graph show that people with Chd have higher hearRate than normal people"
   ]
  },
  {
   "cell_type": "code",
   "execution_count": null,
   "id": "5c7ea106-3324-4aa3-83b6-6c6565725dd2",
   "metadata": {},
   "outputs": [],
   "source": [
    "IQR_bands(\"heartRate\")"
   ]
  },
  {
   "cell_type": "code",
   "execution_count": null,
   "id": "c435d0db-ab16-4a94-bdb1-f0a98978563c",
   "metadata": {},
   "outputs": [],
   "source": [
    "print(\"the mean of heartRate of people with chd is \",data[data[target] == 1]['heartRate'].mean())"
   ]
  },
  {
   "cell_type": "code",
   "execution_count": null,
   "id": "45c8c6e6-8579-4600-893c-c4a7d7b53da4",
   "metadata": {},
   "outputs": [],
   "source": [
    "print(\"the mean of heartRate of people without chd is \",data[data[target] == 0]['heartRate'].mean())"
   ]
  },
  {
   "cell_type": "markdown",
   "id": "920ad7ef-cceb-4d63-8321-2b28ac850357",
   "metadata": {},
   "source": [
    "### glucose"
   ]
  },
  {
   "cell_type": "code",
   "execution_count": null,
   "id": "26256772-9eb3-494c-8b73-96b947419a43",
   "metadata": {},
   "outputs": [],
   "source": [
    "col_details(\"glucose\")"
   ]
  },
  {
   "cell_type": "code",
   "execution_count": null,
   "id": "912a8139-22a8-4fb2-9386-6e4710195ad9",
   "metadata": {},
   "outputs": [],
   "source": [
    "len(data.loc[data.glucose.isnull(),'glucose']) / len(data)"
   ]
  },
  {
   "cell_type": "code",
   "execution_count": null,
   "id": "86cc955e-6284-4d6c-97e8-19f2a470f63a",
   "metadata": {},
   "outputs": [],
   "source": [
    "data = data.dropna(axis=0)"
   ]
  },
  {
   "cell_type": "code",
   "execution_count": null,
   "id": "10cd61f1-e332-40b5-ae94-c402c65adac2",
   "metadata": {},
   "outputs": [],
   "source": [
    "kde_plot(\"glucose\")"
   ]
  },
  {
   "cell_type": "code",
   "execution_count": null,
   "id": "7e0a2f44-2355-4c00-9c5f-c69165f4d476",
   "metadata": {},
   "outputs": [],
   "source": [
    "kde_with_target(\"glucose\")"
   ]
  },
  {
   "cell_type": "code",
   "execution_count": null,
   "id": "31f7560e-8b5a-458d-8d1f-72f0773a3aa6",
   "metadata": {},
   "outputs": [],
   "source": [
    "print(\"the mean of glucose of people with chd is \",data[data[target] == 1]['glucose'].mean())"
   ]
  },
  {
   "cell_type": "code",
   "execution_count": null,
   "id": "f663219b-4ebd-4127-91d0-ef22dcef2faf",
   "metadata": {},
   "outputs": [],
   "source": [
    "print(\"the mean of glucose of people without chd is \",data[data[target] == 0]['glucose'].mean())"
   ]
  },
  {
   "cell_type": "code",
   "execution_count": null,
   "id": "40714c81-023c-4f9d-b430-46377f308bc2",
   "metadata": {},
   "outputs": [],
   "source": [
    "IQR_bands(\"glucose\")"
   ]
  },
  {
   "cell_type": "code",
   "execution_count": null,
   "id": "85e9fc51-ecf8-43fe-8088-042d3786d5b9",
   "metadata": {},
   "outputs": [],
   "source": [
    "data.isnull().sum()"
   ]
  },
  {
   "cell_type": "markdown",
   "id": "feaac78b-ad45-4fb0-8de2-f9c23ff983ea",
   "metadata": {},
   "source": [
    "### Target"
   ]
  },
  {
   "cell_type": "code",
   "execution_count": null,
   "id": "3762a119-b471-483a-a33f-a2f71c26cc87",
   "metadata": {},
   "outputs": [],
   "source": [
    "col_details(target)"
   ]
  },
  {
   "cell_type": "code",
   "execution_count": null,
   "id": "ed08c654-2e3b-4d2c-8210-4ac3f39cc83f",
   "metadata": {},
   "outputs": [],
   "source": [
    "pie_plot_count(target)"
   ]
  },
  {
   "cell_type": "markdown",
   "id": "069fedcc-d541-4659-a4e8-128963d7a488",
   "metadata": {},
   "source": [
    "1 - UnderSampling\n",
    "2 - OverSampling\n",
    "3 - Smote\n",
    "\n",
    "\n",
    "---------\n",
    "2 - Encoding > OneHotEndoer , LabelEncoder\n",
    "\n",
    "\n",
    "3 - Normalization"
   ]
  },
  {
   "cell_type": "code",
   "execution_count": null,
   "id": "7f7f86ea-f23e-4982-a974-09b88ddcf766",
   "metadata": {},
   "outputs": [],
   "source": [
    "plt.figure(figsize=(15,15))\n",
    "sns.heatmap(data.corr(),cmap=\"YlGnBu\", annot=True)\n",
    "plt.show()"
   ]
  },
  {
   "cell_type": "code",
   "execution_count": null,
   "id": "da172dc4-48df-4e65-8a58-55cbe17f9dac",
   "metadata": {},
   "outputs": [],
   "source": [
    "!pip install statsmodels"
   ]
  },
  {
   "cell_type": "code",
   "execution_count": null,
   "id": "1085ac7e-0fbf-45dd-9301-ee89f6ee9ca0",
   "metadata": {},
   "outputs": [],
   "source": [
    "from statsmodels.stats.outliers_influence import variance_inflation_factor"
   ]
  },
  {
   "cell_type": "code",
   "execution_count": null,
   "id": "79832257-05f4-414a-96e8-628b6f8fd2a6",
   "metadata": {},
   "outputs": [],
   "source": [
    "# [item for item in items if item >  }\n",
    "numerical_columns = [col for col in data.columns if data[col].dtype != \"O\"]\n",
    "numerical_columns"
   ]
  },
  {
   "cell_type": "code",
   "execution_count": null,
   "id": "28e125e9-2c5f-4141-b4fd-ec1d1d9fbb07",
   "metadata": {},
   "outputs": [],
   "source": [
    "# create a new dataframe for features \n",
    "data_features = data[numerical_columns].drop('target',axis=1)\n",
    "# \n",
    "vif_data = pd.DataFrame()\n",
    "vif_data[\"feature\"] = data_features.columns\n",
    "  \n",
    "# calculating VIF for each feature\n",
    "vif_data[\"VIF\"] = [variance_inflation_factor(data_features.values, i)\n",
    "                          for i in range(len(data_features.columns))]\n",
    "\n",
    "vif_data.sort_values(\"VIF\",ascending=False)"
   ]
  },
  {
   "cell_type": "code",
   "execution_count": null,
   "id": "855a5261-cd42-42ae-90d4-43a4ecfedf5a",
   "metadata": {},
   "outputs": [],
   "source": [
    "data.to_csv(\"Data/Cleaned_data.csv\")"
   ]
  },
  {
   "cell_type": "code",
   "execution_count": null,
   "id": "23811fef-3167-4e46-b629-67e7e7a0553f",
   "metadata": {},
   "outputs": [],
   "source": []
  }
 ],
 "metadata": {
  "kernelspec": {
   "display_name": "Python 3",
   "language": "python",
   "name": "python3"
  },
  "language_info": {
   "codemirror_mode": {
    "name": "ipython",
    "version": 3
   },
   "file_extension": ".py",
   "mimetype": "text/x-python",
   "name": "python",
   "nbconvert_exporter": "python",
   "pygments_lexer": "ipython3",
   "version": "3.8.8"
  }
 },
 "nbformat": 4,
 "nbformat_minor": 5
}
