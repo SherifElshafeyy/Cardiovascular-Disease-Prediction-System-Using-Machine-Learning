{
 "cells": [
  {
   "cell_type": "code",
   "execution_count": 25,
   "id": "1168a024-c424-44d2-9483-91b219fcdac3",
   "metadata": {},
   "outputs": [],
   "source": [
    "import pandas as pd\n",
    "import numpy as np\n",
    "import matplotlib.pyplot as plt\n",
    "import seaborn as sns\n",
    "from imblearn.over_sampling import RandomOverSampler\n",
    "from sklearn.preprocessing import OneHotEncoder\n",
    "from sklearn.preprocessing import StandardScaler\n",
    "from sklearn.pipeline import Pipeline\n",
    "from sklearn.compose import ColumnTransformer\n",
    "from sklearn.model_selection import train_test_split\n",
    "# from lazypredict.Supervised import LazyClassifier\n",
    "from sklearn.linear_model import LogisticRegression\n",
    "from sklearn.ensemble import RandomForestClassifier\n",
    "from sklearn.tree import DecisionTreeClassifier\n",
    "from xgboost import XGBClassifier\n",
    "from sklearn.metrics import f1_score, classification_report, confusion_matrix, precision_score, recall_score, ConfusionMatrixDisplay\n",
    "import joblib"
   ]
  },
  {
   "cell_type": "code",
   "execution_count": 26,
   "id": "852b9eea-00b3-4da3-8d97-2e074e7ffac5",
   "metadata": {},
   "outputs": [
    {
     "data": {
      "text/html": [
       "<div>\n",
       "<style scoped>\n",
       "    .dataframe tbody tr th:only-of-type {\n",
       "        vertical-align: middle;\n",
       "    }\n",
       "\n",
       "    .dataframe tbody tr th {\n",
       "        vertical-align: top;\n",
       "    }\n",
       "\n",
       "    .dataframe thead th {\n",
       "        text-align: right;\n",
       "    }\n",
       "</style>\n",
       "<table border=\"1\" class=\"dataframe\">\n",
       "  <thead>\n",
       "    <tr style=\"text-align: right;\">\n",
       "      <th></th>\n",
       "      <th>gender</th>\n",
       "      <th>age</th>\n",
       "      <th>education</th>\n",
       "      <th>currentSmoker</th>\n",
       "      <th>cigsPerDay</th>\n",
       "      <th>BPMeds</th>\n",
       "      <th>prevalentStroke</th>\n",
       "      <th>prevalentHyp</th>\n",
       "      <th>diabetes</th>\n",
       "      <th>totChol</th>\n",
       "      <th>sysBP</th>\n",
       "      <th>diaBP</th>\n",
       "      <th>BMI</th>\n",
       "      <th>heartRate</th>\n",
       "      <th>glucose</th>\n",
       "      <th>target</th>\n",
       "    </tr>\n",
       "  </thead>\n",
       "  <tbody>\n",
       "    <tr>\n",
       "      <th>0</th>\n",
       "      <td>Male</td>\n",
       "      <td>39</td>\n",
       "      <td>Higher Degree</td>\n",
       "      <td>0</td>\n",
       "      <td>0.0</td>\n",
       "      <td>0.0</td>\n",
       "      <td>0</td>\n",
       "      <td>0</td>\n",
       "      <td>0</td>\n",
       "      <td>195.0</td>\n",
       "      <td>106.0</td>\n",
       "      <td>70.0</td>\n",
       "      <td>26.97</td>\n",
       "      <td>80.0</td>\n",
       "      <td>77.0</td>\n",
       "      <td>0</td>\n",
       "    </tr>\n",
       "    <tr>\n",
       "      <th>1</th>\n",
       "      <td>Female</td>\n",
       "      <td>46</td>\n",
       "      <td>High School Diploma/GED</td>\n",
       "      <td>0</td>\n",
       "      <td>0.0</td>\n",
       "      <td>0.0</td>\n",
       "      <td>0</td>\n",
       "      <td>0</td>\n",
       "      <td>0</td>\n",
       "      <td>250.0</td>\n",
       "      <td>121.0</td>\n",
       "      <td>81.0</td>\n",
       "      <td>28.73</td>\n",
       "      <td>95.0</td>\n",
       "      <td>76.0</td>\n",
       "      <td>0</td>\n",
       "    </tr>\n",
       "    <tr>\n",
       "      <th>2</th>\n",
       "      <td>Male</td>\n",
       "      <td>48</td>\n",
       "      <td>High School</td>\n",
       "      <td>1</td>\n",
       "      <td>20.0</td>\n",
       "      <td>0.0</td>\n",
       "      <td>0</td>\n",
       "      <td>0</td>\n",
       "      <td>0</td>\n",
       "      <td>245.0</td>\n",
       "      <td>127.5</td>\n",
       "      <td>80.0</td>\n",
       "      <td>25.34</td>\n",
       "      <td>75.0</td>\n",
       "      <td>70.0</td>\n",
       "      <td>0</td>\n",
       "    </tr>\n",
       "    <tr>\n",
       "      <th>3</th>\n",
       "      <td>Female</td>\n",
       "      <td>61</td>\n",
       "      <td>College</td>\n",
       "      <td>1</td>\n",
       "      <td>30.0</td>\n",
       "      <td>0.0</td>\n",
       "      <td>0</td>\n",
       "      <td>1</td>\n",
       "      <td>0</td>\n",
       "      <td>225.0</td>\n",
       "      <td>150.0</td>\n",
       "      <td>95.0</td>\n",
       "      <td>28.58</td>\n",
       "      <td>65.0</td>\n",
       "      <td>103.0</td>\n",
       "      <td>1</td>\n",
       "    </tr>\n",
       "    <tr>\n",
       "      <th>4</th>\n",
       "      <td>Female</td>\n",
       "      <td>46</td>\n",
       "      <td>College</td>\n",
       "      <td>1</td>\n",
       "      <td>23.0</td>\n",
       "      <td>0.0</td>\n",
       "      <td>0</td>\n",
       "      <td>0</td>\n",
       "      <td>0</td>\n",
       "      <td>285.0</td>\n",
       "      <td>130.0</td>\n",
       "      <td>84.0</td>\n",
       "      <td>23.10</td>\n",
       "      <td>85.0</td>\n",
       "      <td>85.0</td>\n",
       "      <td>0</td>\n",
       "    </tr>\n",
       "    <tr>\n",
       "      <th>...</th>\n",
       "      <td>...</td>\n",
       "      <td>...</td>\n",
       "      <td>...</td>\n",
       "      <td>...</td>\n",
       "      <td>...</td>\n",
       "      <td>...</td>\n",
       "      <td>...</td>\n",
       "      <td>...</td>\n",
       "      <td>...</td>\n",
       "      <td>...</td>\n",
       "      <td>...</td>\n",
       "      <td>...</td>\n",
       "      <td>...</td>\n",
       "      <td>...</td>\n",
       "      <td>...</td>\n",
       "      <td>...</td>\n",
       "    </tr>\n",
       "    <tr>\n",
       "      <th>3845</th>\n",
       "      <td>Male</td>\n",
       "      <td>68</td>\n",
       "      <td>High School</td>\n",
       "      <td>0</td>\n",
       "      <td>0.0</td>\n",
       "      <td>0.0</td>\n",
       "      <td>0</td>\n",
       "      <td>1</td>\n",
       "      <td>0</td>\n",
       "      <td>176.0</td>\n",
       "      <td>168.0</td>\n",
       "      <td>97.0</td>\n",
       "      <td>23.14</td>\n",
       "      <td>60.0</td>\n",
       "      <td>79.0</td>\n",
       "      <td>1</td>\n",
       "    </tr>\n",
       "    <tr>\n",
       "      <th>3846</th>\n",
       "      <td>Male</td>\n",
       "      <td>50</td>\n",
       "      <td>High School</td>\n",
       "      <td>1</td>\n",
       "      <td>1.0</td>\n",
       "      <td>0.0</td>\n",
       "      <td>0</td>\n",
       "      <td>1</td>\n",
       "      <td>0</td>\n",
       "      <td>313.0</td>\n",
       "      <td>179.0</td>\n",
       "      <td>92.0</td>\n",
       "      <td>25.97</td>\n",
       "      <td>66.0</td>\n",
       "      <td>86.0</td>\n",
       "      <td>1</td>\n",
       "    </tr>\n",
       "    <tr>\n",
       "      <th>3847</th>\n",
       "      <td>Male</td>\n",
       "      <td>51</td>\n",
       "      <td>College</td>\n",
       "      <td>1</td>\n",
       "      <td>43.0</td>\n",
       "      <td>0.0</td>\n",
       "      <td>0</td>\n",
       "      <td>0</td>\n",
       "      <td>0</td>\n",
       "      <td>207.0</td>\n",
       "      <td>126.5</td>\n",
       "      <td>80.0</td>\n",
       "      <td>19.71</td>\n",
       "      <td>65.0</td>\n",
       "      <td>68.0</td>\n",
       "      <td>0</td>\n",
       "    </tr>\n",
       "    <tr>\n",
       "      <th>3848</th>\n",
       "      <td>Female</td>\n",
       "      <td>48</td>\n",
       "      <td>High School Diploma/GED</td>\n",
       "      <td>1</td>\n",
       "      <td>20.0</td>\n",
       "      <td>0.0</td>\n",
       "      <td>0</td>\n",
       "      <td>0</td>\n",
       "      <td>0</td>\n",
       "      <td>248.0</td>\n",
       "      <td>131.0</td>\n",
       "      <td>72.0</td>\n",
       "      <td>22.00</td>\n",
       "      <td>84.0</td>\n",
       "      <td>86.0</td>\n",
       "      <td>0</td>\n",
       "    </tr>\n",
       "    <tr>\n",
       "      <th>3849</th>\n",
       "      <td>Female</td>\n",
       "      <td>52</td>\n",
       "      <td>High School Diploma/GED</td>\n",
       "      <td>0</td>\n",
       "      <td>0.0</td>\n",
       "      <td>0.0</td>\n",
       "      <td>0</td>\n",
       "      <td>0</td>\n",
       "      <td>0</td>\n",
       "      <td>269.0</td>\n",
       "      <td>133.5</td>\n",
       "      <td>83.0</td>\n",
       "      <td>21.47</td>\n",
       "      <td>80.0</td>\n",
       "      <td>107.0</td>\n",
       "      <td>0</td>\n",
       "    </tr>\n",
       "  </tbody>\n",
       "</table>\n",
       "<p>3850 rows × 16 columns</p>\n",
       "</div>"
      ],
      "text/plain": [
       "      gender  age                education  currentSmoker  cigsPerDay  BPMeds  \\\n",
       "0       Male   39            Higher Degree              0         0.0     0.0   \n",
       "1     Female   46  High School Diploma/GED              0         0.0     0.0   \n",
       "2       Male   48              High School              1        20.0     0.0   \n",
       "3     Female   61                  College              1        30.0     0.0   \n",
       "4     Female   46                  College              1        23.0     0.0   \n",
       "...      ...  ...                      ...            ...         ...     ...   \n",
       "3845    Male   68              High School              0         0.0     0.0   \n",
       "3846    Male   50              High School              1         1.0     0.0   \n",
       "3847    Male   51                  College              1        43.0     0.0   \n",
       "3848  Female   48  High School Diploma/GED              1        20.0     0.0   \n",
       "3849  Female   52  High School Diploma/GED              0         0.0     0.0   \n",
       "\n",
       "      prevalentStroke  prevalentHyp  diabetes  totChol  sysBP  diaBP    BMI  \\\n",
       "0                   0             0         0    195.0  106.0   70.0  26.97   \n",
       "1                   0             0         0    250.0  121.0   81.0  28.73   \n",
       "2                   0             0         0    245.0  127.5   80.0  25.34   \n",
       "3                   0             1         0    225.0  150.0   95.0  28.58   \n",
       "4                   0             0         0    285.0  130.0   84.0  23.10   \n",
       "...               ...           ...       ...      ...    ...    ...    ...   \n",
       "3845                0             1         0    176.0  168.0   97.0  23.14   \n",
       "3846                0             1         0    313.0  179.0   92.0  25.97   \n",
       "3847                0             0         0    207.0  126.5   80.0  19.71   \n",
       "3848                0             0         0    248.0  131.0   72.0  22.00   \n",
       "3849                0             0         0    269.0  133.5   83.0  21.47   \n",
       "\n",
       "      heartRate  glucose  target  \n",
       "0          80.0     77.0       0  \n",
       "1          95.0     76.0       0  \n",
       "2          75.0     70.0       0  \n",
       "3          65.0    103.0       1  \n",
       "4          85.0     85.0       0  \n",
       "...         ...      ...     ...  \n",
       "3845       60.0     79.0       1  \n",
       "3846       66.0     86.0       1  \n",
       "3847       65.0     68.0       0  \n",
       "3848       84.0     86.0       0  \n",
       "3849       80.0    107.0       0  \n",
       "\n",
       "[3850 rows x 16 columns]"
      ]
     },
     "execution_count": 26,
     "metadata": {},
     "output_type": "execute_result"
    }
   ],
   "source": [
    "data = pd.read_csv(\"Data/cleaned_data.csv\")\n",
    "data = data.drop(\"Unnamed: 0\",axis=1)\n",
    "data"
   ]
  },
  {
   "cell_type": "markdown",
   "id": "44eaf167-3eed-4cfd-9857-efaaf7cac43c",
   "metadata": {},
   "source": [
    "### Problems :\n",
    "1 - Convert Categorical data into numerical\n",
    "    * Label Encoder > high school :1 , college : 2 , Diploma : 3\n",
    "    * One Hot Encoder > \n",
    "\n",
    "2 - unbalanced data\n",
    "     1 - UnderSampling\n",
    "     2 - OverSampling\n",
    "     3 - Smote\n",
    "3 - Normalization , Scaling"
   ]
  },
  {
   "cell_type": "code",
   "execution_count": 27,
   "id": "eee57a25-cda7-44a5-b428-dfa0f02e8dd5",
   "metadata": {},
   "outputs": [],
   "source": [
    "# categorical = []\n",
    "# numerical = []\n",
    "# for col in data.columns:\n",
    "#     if data[col].dtype == \"O\":\n",
    "#         categorical.append(col)\n",
    "#     else:\n",
    "#         numerical.append(col)        "
   ]
  },
  {
   "cell_type": "code",
   "execution_count": 28,
   "id": "fe49279f-2b92-44bf-8e00-adea7726611a",
   "metadata": {},
   "outputs": [
    {
     "data": {
      "text/plain": [
       "['gender', 'education']"
      ]
     },
     "execution_count": 28,
     "metadata": {},
     "output_type": "execute_result"
    }
   ],
   "source": [
    "categorical = [col for col in data.columns if data[col].dtype == \"O\"]\n",
    "categorical"
   ]
  },
  {
   "cell_type": "code",
   "execution_count": 29,
   "id": "39e61bb4-0acc-49dd-baea-17927186afc2",
   "metadata": {},
   "outputs": [
    {
     "data": {
      "text/plain": [
       "['age',\n",
       " 'currentSmoker',\n",
       " 'cigsPerDay',\n",
       " 'BPMeds',\n",
       " 'prevalentStroke',\n",
       " 'prevalentHyp',\n",
       " 'diabetes',\n",
       " 'totChol',\n",
       " 'sysBP',\n",
       " 'diaBP',\n",
       " 'BMI',\n",
       " 'heartRate',\n",
       " 'glucose']"
      ]
     },
     "execution_count": 29,
     "metadata": {},
     "output_type": "execute_result"
    }
   ],
   "source": [
    "numerical = [col for col in data.columns if data[col].dtype != \"O\"]\n",
    "numerical = numerical[0:-1]\n",
    "numerical"
   ]
  },
  {
   "cell_type": "code",
   "execution_count": 30,
   "id": "0217a9ad-d18e-4cbb-be57-06cdf4ed01c4",
   "metadata": {},
   "outputs": [],
   "source": [
    "X = data.drop('target', axis=1)\n",
    "Y = data['target']"
   ]
  },
  {
   "cell_type": "code",
   "execution_count": 31,
   "id": "50fd6a3f-86d5-4370-9a8c-dc58e839cf13",
   "metadata": {},
   "outputs": [
    {
     "data": {
      "text/plain": [
       "(0.8457142857142858, 0.15428571428571428)"
      ]
     },
     "execution_count": 31,
     "metadata": {},
     "output_type": "execute_result"
    }
   ],
   "source": [
    "list(Y).count(0)  / len(Y) ,  list(Y).count(1)  / len(Y)"
   ]
  },
  {
   "cell_type": "code",
   "execution_count": 32,
   "id": "64ebba1b-5e7f-41ad-9110-292befd988c2",
   "metadata": {},
   "outputs": [],
   "source": [
    "x_train , x_test , y_train , y_test = train_test_split(X, Y, test_size=0.15, random_state=42, stratify=Y)"
   ]
  },
  {
   "cell_type": "code",
   "execution_count": 33,
   "id": "5776d182-8323-4bbf-8525-cc47a52fc840",
   "metadata": {},
   "outputs": [
    {
     "data": {
      "text/plain": [
       "((3272, 15), (578, 15), (3272,), (578,))"
      ]
     },
     "execution_count": 33,
     "metadata": {},
     "output_type": "execute_result"
    }
   ],
   "source": [
    "x_train.shape , x_test.shape , y_train.shape , y_test.shape"
   ]
  },
  {
   "cell_type": "code",
   "execution_count": 34,
   "id": "4b262fe1-5e6a-494c-bddf-08cc041f97d5",
   "metadata": {},
   "outputs": [
    {
     "data": {
      "text/plain": [
       "(0.8456601466992665, 0.1543398533007335)"
      ]
     },
     "execution_count": 34,
     "metadata": {},
     "output_type": "execute_result"
    }
   ],
   "source": [
    "list(y_train).count(0)  / len(y_train) ,  list(y_train).count(1)  / len(y_train)"
   ]
  },
  {
   "cell_type": "code",
   "execution_count": 35,
   "id": "28b5d1ec-9b25-4f76-89aa-6b604c7402e1",
   "metadata": {},
   "outputs": [
    {
     "data": {
      "text/plain": [
       "(0.8460207612456747, 0.15397923875432526)"
      ]
     },
     "execution_count": 35,
     "metadata": {},
     "output_type": "execute_result"
    }
   ],
   "source": [
    "list(y_test).count(0)  / len(y_test) ,  list(y_test).count(1)  / len(y_test)"
   ]
  },
  {
   "cell_type": "code",
   "execution_count": 36,
   "id": "c0c120ce-0ffe-4e39-91bb-946a7230037b",
   "metadata": {},
   "outputs": [],
   "source": [
    "ros = RandomOverSampler()"
   ]
  },
  {
   "cell_type": "code",
   "execution_count": 37,
   "id": "785af9e1-7a2f-4ed9-becf-4950ccf93949",
   "metadata": {},
   "outputs": [],
   "source": [
    "x_train, y_train = ros.fit_resample(x_train,y_train)"
   ]
  },
  {
   "cell_type": "code",
   "execution_count": 38,
   "id": "99615d3c-a261-45f9-90d7-c70cc0d0ff40",
   "metadata": {},
   "outputs": [
    {
     "data": {
      "text/plain": [
       "(2767, 2767)"
      ]
     },
     "execution_count": 38,
     "metadata": {},
     "output_type": "execute_result"
    }
   ],
   "source": [
    "list(y_train).count(1) , list(y_train).count(0)"
   ]
  },
  {
   "cell_type": "code",
   "execution_count": 39,
   "id": "496e6135-5e3f-4528-a268-3c23de552e39",
   "metadata": {},
   "outputs": [],
   "source": [
    "pipeline = ColumnTransformer([(\"scaler\", StandardScaler() ,numerical ),\n",
    "                              # [red , green , blue ] > [1 , 0, 0 ] \n",
    "                               (\"encoder\", OneHotEncoder() , categorical)\n",
    "                             ])"
   ]
  },
  {
   "cell_type": "code",
   "execution_count": 40,
   "id": "c49034f7-7a5b-444e-aabe-2c2d8ad75052",
   "metadata": {},
   "outputs": [],
   "source": [
    "# [high school , college , ss] > [ 1 , 0 , 0]\n",
    "# [college] > [1]"
   ]
  },
  {
   "cell_type": "code",
   "execution_count": 41,
   "id": "491e0eb2-8845-41df-afe4-4606740d1635",
   "metadata": {},
   "outputs": [],
   "source": [
    "x_train = pipeline.fit_transform(x_train)\n",
    "x_test = pipeline.transform(x_test) "
   ]
  },
  {
   "cell_type": "code",
   "execution_count": 42,
   "id": "dc8cfe26-ad5b-4538-9f65-eb348ece8a4b",
   "metadata": {},
   "outputs": [
    {
     "data": {
      "text/plain": [
       "['pipeline.joblib']"
      ]
     },
     "execution_count": 42,
     "metadata": {},
     "output_type": "execute_result"
    }
   ],
   "source": [
    "joblib.dump(pipeline, \"pipeline.joblib\")"
   ]
  },
  {
   "cell_type": "code",
   "execution_count": 48,
   "id": "dcec6888-9566-4dad-abbe-c9c67bba8a26",
   "metadata": {},
   "outputs": [
    {
     "data": {
      "text/plain": [
       "(5534, 19)"
      ]
     },
     "execution_count": 48,
     "metadata": {},
     "output_type": "execute_result"
    }
   ],
   "source": [
    "x_train.shape"
   ]
  },
  {
   "cell_type": "code",
   "execution_count": 44,
   "id": "6990f2c3-e64c-4140-bf6c-451ad32a1d0b",
   "metadata": {},
   "outputs": [],
   "source": [
    "models = {\"random_forest\":RandomForestClassifier(), \"tree\":DecisionTreeClassifier(),\n",
    "          \"XGB\" : XGBClassifier(**{'subsample': 1.0, 'n_estimators': 50, 'max_depth': 3, 'learning_rate': 0.1, 'gamma': 0, 'colsample_bytree': 0.9}), \"Logistic\":LogisticRegression()}"
   ]
  },
  {
   "cell_type": "code",
   "execution_count": 45,
   "id": "b5f6e2e6-eb19-4ed6-8859-12e68c3b785e",
   "metadata": {},
   "outputs": [],
   "source": [
    "from sklearn.metrics import accuracy_score"
   ]
  },
  {
   "cell_type": "code",
   "execution_count": 46,
   "id": "c1362338-9683-437d-a80a-6b299f284ec1",
   "metadata": {},
   "outputs": [
    {
     "name": "stdout",
     "output_type": "stream",
     "text": [
      "\n",
      "\n",
      "\n",
      "\n",
      " random_forest\n",
      "Training Accuracy is 1.0\n",
      "Accuracy Score is 0.8529411764705882\n",
      "Training F1 Score is 1.0\n",
      "Testing F1 Score is 0.23423423423423423\n",
      "              precision    recall  f1-score   support\n",
      "\n",
      "           0       0.86      0.98      0.92       489\n",
      "           1       0.59      0.15      0.23        89\n",
      "\n",
      "    accuracy                           0.85       578\n",
      "   macro avg       0.73      0.56      0.58       578\n",
      "weighted avg       0.82      0.85      0.81       578\n",
      "\n"
     ]
    },
    {
     "data": {
      "image/png": "[encoded data removed]",
      "text/plain": [
       "<Figure size 504x504 with 2 Axes>"
      ]
     },
     "metadata": {
      "needs_background": "light"
     },
     "output_type": "display_data"
    },
    {
     "name": "stdout",
     "output_type": "stream",
     "text": [
      "\n",
      "\n",
      "\n",
      "\n",
      " tree\n",
      "Training Accuracy is 1.0\n",
      "Accuracy Score is 0.7681660899653979\n",
      "Training F1 Score is 1.0\n",
      "Testing F1 Score is 0.2795698924731183\n",
      "              precision    recall  f1-score   support\n",
      "\n",
      "           0       0.87      0.85      0.86       489\n",
      "           1       0.27      0.29      0.28        89\n",
      "\n",
      "    accuracy                           0.77       578\n",
      "   macro avg       0.57      0.57      0.57       578\n",
      "weighted avg       0.78      0.77      0.77       578\n",
      "\n"
     ]
    },
    {
     "data": {
      "image/png": "[encoded data removed]",
      "text/plain": [
       "<Figure size 504x504 with 2 Axes>"
      ]
     },
     "metadata": {
      "needs_background": "light"
     },
     "output_type": "display_data"
    },
    {
     "name": "stdout",
     "output_type": "stream",
     "text": [
      "\n",
      "\n",
      "\n",
      "\n",
      " XGB\n",
      "Training Accuracy is 0.7352728586917239\n",
      "Accuracy Score is 0.6816608996539792\n",
      "Training F1 Score is 0.7436570428696413\n",
      "Testing F1 Score is 0.3825503355704698\n",
      "              precision    recall  f1-score   support\n",
      "\n",
      "           0       0.91      0.69      0.79       489\n",
      "           1       0.27      0.64      0.38        89\n",
      "\n",
      "    accuracy                           0.68       578\n",
      "   macro avg       0.59      0.66      0.58       578\n",
      "weighted avg       0.81      0.68      0.72       578\n",
      "\n"
     ]
    },
    {
     "data": {
      "image/png": "[encoded data removed]",
      "text/plain": [
       "<Figure size 504x504 with 2 Axes>"
      ]
     },
     "metadata": {
      "needs_background": "light"
     },
     "output_type": "display_data"
    },
    {
     "name": "stdout",
     "output_type": "stream",
     "text": [
      "\n",
      "\n",
      "\n",
      "\n",
      " Logistic\n",
      "Training Accuracy is 0.6931694976508854\n",
      "Accuracy Score is 0.6920415224913494\n",
      "Training F1 Score is 0.6980796586059744\n",
      "Testing F1 Score is 0.4066666666666666\n",
      "              precision    recall  f1-score   support\n",
      "\n",
      "           0       0.92      0.69      0.79       489\n",
      "           1       0.29      0.69      0.41        89\n",
      "\n",
      "    accuracy                           0.69       578\n",
      "   macro avg       0.61      0.69      0.60       578\n",
      "weighted avg       0.83      0.69      0.73       578\n",
      "\n"
     ]
    },
    {
     "data": {
      "image/png": "[encoded data removed]",
      "text/plain": [
       "<Figure size 504x504 with 2 Axes>"
      ]
     },
     "metadata": {
      "needs_background": "light"
     },
     "output_type": "display_data"
    }
   ],
   "source": [
    "for name, model in models.items():\n",
    "    print(\"\\n\\n\\n\\n\",name)\n",
    "    model.fit(x_train, y_train)\n",
    "    \n",
    "    print(F\"Training Accuracy is {model.score(x_train, y_train)}\")\n",
    "    y_pred = model.predict(x_test)\n",
    "    print(f\"Accuracy Score is {accuracy_score(y_pred, y_test)}\")\n",
    "    y_pred_train = model.predict(x_train)\n",
    "    \n",
    "    print(f\"Training F1 Score is {f1_score(y_pred_train, y_train)}\")\n",
    "\n",
    "    print(f\"Testing F1 Score is {f1_score(y_pred, y_test)}\")\n",
    "    print(classification_report(y_test, y_pred))  \n",
    "    # specify axis with  figure size \n",
    "    fig,ax = plt.subplots(figsize=(7,7))\n",
    "    # getting confusion matrix\n",
    "    confusion = confusion_matrix(y_test, y_pred)\n",
    "    # confusionMatraxDisplay is used to create a confusion matrix plot from confusion\n",
    "    display_con = ConfusionMatrixDisplay(confusion,display_labels=['Normal',\"CHD\"])\n",
    "    # the confusion matrix with respect to axis defined above\n",
    "    display_con.plot(ax=ax)\n",
    "    plt.show()"
   ]
  },
  {
   "cell_type": "code",
   "execution_count": 47,
   "id": "04de7f10-be19-4ead-b014-f89a8b551e83",
   "metadata": {},
   "outputs": [
    {
     "ename": "IndentationError",
     "evalue": "unexpected indent (<ipython-input-47-e4e5b1c5371d>, line 2)",
     "output_type": "error",
     "traceback": [
      "\u001b[1;36m  File \u001b[1;32m\"<ipython-input-47-e4e5b1c5371d>\"\u001b[1;36m, line \u001b[1;32m2\u001b[0m\n\u001b[1;33m    * Simple models\u001b[0m\n\u001b[1;37m    ^\u001b[0m\n\u001b[1;31mIndentationError\u001b[0m\u001b[1;31m:\u001b[0m unexpected indent\n"
     ]
    }
   ],
   "source": [
    "# overfitting  > Training acc is very high , testing > low \n",
    "    * Simple models\n",
    "    * Regu\n",
    "    * increase data\n",
    "    * Drop out\n",
    "    * Pruening\n",
    "\n",
    "# under fitting > training  is low , testing is low \n",
    "    * Complex Model\n",
    "    * Ensemble Models"
   ]
  },
  {
   "cell_type": "code",
   "execution_count": null,
   "id": "50f08e08-9307-4d9d-93a0-faf106688f2a",
   "metadata": {},
   "outputs": [],
   "source": [
    "# hyper Parameter tuning \n",
    "# randomsearch > [100,200] , critation (\"gini , \"entropy]\n",
    "# grid Search  > [100,200] , critation (\"gini , \"entropy] "
   ]
  },
  {
   "cell_type": "code",
   "execution_count": null,
   "id": "75fea885-8211-4d1d-8570-751a3f5987b8",
   "metadata": {},
   "outputs": [],
   "source": [
    "# Simple Model \n",
    "# Regulerization \n",
    "# increase data\n",
    "# "
   ]
  },
  {
   "cell_type": "code",
   "execution_count": null,
   "id": "75e80477-21c5-473c-9497-60e38b5db42b",
   "metadata": {},
   "outputs": [],
   "source": [
    "from sklearn.model_selection import RandomizedSearchCV\n"
   ]
  },
  {
   "cell_type": "code",
   "execution_count": null,
   "id": "9f53e1bb-9307-42eb-a4cf-df276e3fead1",
   "metadata": {},
   "outputs": [],
   "source": [
    "logistic_regression = LogisticRegression()\n",
    "param_grid = {\n",
    "    'C': np.logspace(-4, 4, 20),  # regularization parameter\n",
    "    'penalty': ['l1', 'l2'],      # regularization type\n",
    "    'solver': ['liblinear'],       # algorithm for optimization\n",
    "    'max_iter': [100, 200, 300]    # maximum number of iterations\n",
    "}\n"
   ]
  },
  {
   "cell_type": "code",
   "execution_count": null,
   "id": "e6c8c564-ee95-46cf-820d-88ae681d8117",
   "metadata": {},
   "outputs": [],
   "source": [
    "# data > [][][][][]"
   ]
  },
  {
   "cell_type": "code",
   "execution_count": null,
   "id": "0c29f9d7-9a50-4c42-8343-f163cde34505",
   "metadata": {},
   "outputs": [],
   "source": [
    "random_search = RandomizedSearchCV(\n",
    "    logistic_regression,\n",
    "    param_distributions=param_grid,\n",
    "    n_iter=10,           # number of parameter settings that are sampled\n",
    "    cv=10,                # number of cross-validation folds\n",
    "    random_state=42,\n",
    "    scoring='f1'# random seed for reproducibility\n",
    ")\n",
    "\n",
    "random_search.fit(x_train, y_train)\n"
   ]
  },
  {
   "cell_type": "code",
   "execution_count": null,
   "id": "8a5fad2c-f1a8-4057-a0e7-462984c2b9dc",
   "metadata": {},
   "outputs": [],
   "source": [
    "# Print the best hyperparameters\n",
    "print(\"Best Hyperparameters: \", random_search.best_params_)\n",
    "\n",
    "# Print the best score (mean cross-validated score of the best estimator)\n",
    "print(\"Best Score: \", random_search.best_score_)"
   ]
  },
  {
   "cell_type": "code",
   "execution_count": null,
   "id": "2b19b28b-82a2-4209-bf96-436df4f5ea57",
   "metadata": {},
   "outputs": [],
   "source": [
    "lr = LogisticRegression(**{'solver': 'liblinear', 'penalty': 'l1', 'max_iter': 300, 'C': 0.03359818286283781})"
   ]
  },
  {
   "cell_type": "code",
   "execution_count": null,
   "id": "cdfadb2e-0c9d-4915-a5e0-7e9e0b17c160",
   "metadata": {},
   "outputs": [],
   "source": [
    "lr.fit(x_train, y_train)\n",
    "print(F\"Training Accuracy is {lr.score(x_train, y_train)}\")\n",
    "y_pred = lr.predict(x_test)\n",
    "print(f\"F1 Score is {f1_score(y_pred, y_test)}\")\n",
    "print(classification_report(y_test, y_pred))  \n",
    "# specify axis with  figure size \n",
    "fig,ax = plt.subplots(figsize=(7,7))\n",
    "# getting confusion matrix\n",
    "confusion = confusion_matrix(y_test, y_pred)\n",
    "# confusionMatraxDisplay is used to create a confusion matrix plot from confusion\n",
    "display_con = ConfusionMatrixDisplay(confusion,display_labels=['Normal',\"CHD\"])\n",
    "# the confusion matrix with respect to axis defined above\n",
    "display_con.plot(ax=ax)\n",
    "plt.show()"
   ]
  },
  {
   "cell_type": "code",
   "execution_count": null,
   "id": "abfd5167-72bd-4c5a-9e24-4ef5bbec2b68",
   "metadata": {},
   "outputs": [],
   "source": [
    "xgb_model = XGBClassifier()\n",
    "\n",
    "# Define the hyperparameter grid\n",
    "param_grid = {\n",
    "    'n_estimators': [40,50, 60, 70],\n",
    "    'max_depth': [3,3, 4, 5],\n",
    "    'learning_rate': [0.1, 0.01, 0.001],\n",
    "    'gamma': [0, 0.1, 0.2],\n",
    "    'subsample': [0.8, 0.9, 1.0],\n",
    "    'colsample_bytree': [0.8, 0.9, 1.0]\n",
    "}\n",
    "\n",
    "# Perform hyperparameter tuning using RandomizedSearchCV\n",
    "random_search = RandomizedSearchCV(\n",
    "    xgb_model,\n",
    "    param_distributions=param_grid,\n",
    "    n_iter=10,\n",
    "    cv=5,\n",
    "    scoring='f1',  # Set scoring metric to F1 score\n",
    "    random_state=42\n",
    ")\n",
    "\n",
    "# Fit the random search to the data\n",
    "random_search.fit(x_train, y_train)\n",
    "\n",
    "# Print the best hyperparameters\n",
    "print(\"Best Hyperparameters: \", random_search.best_params_)\n",
    "\n",
    "# Print the best F1 score\n",
    "print(\"Best F1 Score: \", random_search.best_score_)\n"
   ]
  },
  {
   "cell_type": "code",
   "execution_count": null,
   "id": "c11fe05f-528d-4bc4-b037-c8f71c2afd72",
   "metadata": {},
   "outputs": [],
   "source": [
    "xgb =  XGBClassifier(**random_search.best_params_)\n",
    "xgb.fit(x_train, y_train)"
   ]
  },
  {
   "cell_type": "code",
   "execution_count": null,
   "id": "76ffbc7e-c5a0-4958-996e-68686ed00b02",
   "metadata": {},
   "outputs": [],
   "source": [
    "joblib.dump(xgb, \"best_model.joblib\")"
   ]
  },
  {
   "cell_type": "code",
   "execution_count": null,
   "id": "3dcf9cab-4f28-4dce-a3fc-6f44f0162238",
   "metadata": {},
   "outputs": [],
   "source": [
    "del xgb"
   ]
  },
  {
   "cell_type": "markdown",
   "id": "bb206889-12a6-4550-b932-6155354b8688",
   "metadata": {},
   "source": [
    "### Deployment \n",
    " * Json : {\"gender\":\"male\", \"eduation\":\"high School\" , age : 18}\n",
    " * data frame : apply the same transformation that was applied to training data"
   ]
  },
  {
   "cell_type": "code",
   "execution_count": null,
   "id": "6e8146cd-b138-4cf2-9e85-287692bba714",
   "metadata": {},
   "outputs": [],
   "source": [
    "input_data = {'gender': 'Male',\n",
    " 'age': 39,\n",
    " 'education': 'Higher Degree',\n",
    " 'currentSmoker': 0,\n",
    " 'cigsPerDay': 0.0,\n",
    " 'BPMeds': 0.0,\n",
    " 'prevalentStroke': 0,\n",
    " 'prevalentHyp': 0,\n",
    " 'diabetes': 0,\n",
    " 'totChol': 195.0,\n",
    " 'sysBP': 106.0,\n",
    " 'diaBP': 70.0,\n",
    " 'BMI': 26.97,\n",
    " 'heartRate': 80.0,\n",
    " 'glucose': 77.0}"
   ]
  },
  {
   "cell_type": "code",
   "execution_count": null,
   "id": "ebde9e0c-5f55-4ced-a418-3a096fa96def",
   "metadata": {},
   "outputs": [],
   "source": [
    "del pipeline"
   ]
  },
  {
   "cell_type": "code",
   "execution_count": null,
   "id": "02aff3d0-aade-42f7-a85a-9b9cb68dc903",
   "metadata": {},
   "outputs": [],
   "source": [
    "pipeline = joblib.load(\"pipeline.joblib\")"
   ]
  },
  {
   "cell_type": "code",
   "execution_count": null,
   "id": "a2f12673-c200-45f5-99ac-7c954b78d2ef",
   "metadata": {},
   "outputs": [],
   "source": [
    "pipeline"
   ]
  },
  {
   "cell_type": "code",
   "execution_count": null,
   "id": "371fda0d-9a27-4ffa-9995-0b071cbb7ee2",
   "metadata": {},
   "outputs": [],
   "source": [
    "model = joblib.load(\"best_model.joblib\")"
   ]
  },
  {
   "cell_type": "code",
   "execution_count": null,
   "id": "ba2fd0db-8537-4bb6-bb2c-cff4b053804e",
   "metadata": {},
   "outputs": [],
   "source": [
    "def perform_prediction(input_data, pipeline, model):\n",
    "    \n",
    "    intput_df = pd.DataFrame(input_data, index=[0])\n",
    "    \n",
    "    preprocessed_data = pipeline.transform(intput_df)\n",
    "    \n",
    "    prediction = model.predict(preprocessed_data)\n",
    "    \n",
    "    return {\"prediction\":prediction[0]}"
   ]
  },
  {
   "cell_type": "code",
   "execution_count": null,
   "id": "883e8748-7f6b-42ac-976c-4ce99233af3b",
   "metadata": {},
   "outputs": [],
   "source": [
    "perform_prediction(input_data,pipeline,model)"
   ]
  },
  {
   "cell_type": "code",
   "execution_count": null,
   "id": "7d6148a9-e2f1-40fb-92eb-c2aa7ee513f3",
   "metadata": {},
   "outputs": [],
   "source": []
  }
 ],
 "metadata": {
  "kernelspec": {
   "display_name": "Python 3",
   "language": "python",
   "name": "python3"
  },
  "language_info": {
   "codemirror_mode": {
    "name": "ipython",
    "version": 3
   },
   "file_extension": ".py",
   "mimetype": "text/x-python",
   "name": "python",
   "nbconvert_exporter": "python",
   "pygments_lexer": "ipython3",
   "version": "3.8.8"
  }
 },
 "nbformat": 4,
 "nbformat_minor": 5
}
